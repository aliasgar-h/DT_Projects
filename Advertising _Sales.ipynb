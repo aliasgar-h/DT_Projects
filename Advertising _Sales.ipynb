{
 "cells": [
  {
   "cell_type": "markdown",
   "metadata": {},
   "source": [
    "# Description\n",
    "\n",
    "When a company enters a market, the distribution strategy and channel it uses are keys to its success in the market, as well as market know-how and customer knowledge and understanding. Because an effective distribution strategy under efficient supply-chain management opens doors for attaining competitive advantage and strong brand equity in the market, it is a component of the marketing mix that cannot be ignored . \n",
    "\n",
    "The distribution strategy and the channel design have to be right the first time. The case study of Sales channel includes the detailed study of TV, radio and newspaper channel. The company has to select proper sales channel to predict the right sales channel to generate good revenue. \n",
    "\n",
    "With the given data in the dataset we examine and analyse the pattern where channels contribute maximum towards the sales and revenue. We try to build a model where with sales number we predict the sales and revenues generation its going to make."
   ]
  },
  {
   "cell_type": "code",
   "execution_count": 77,
   "metadata": {},
   "outputs": [],
   "source": [
    "# Importing Libraries\n",
    "import pandas as pd\n",
    "import numpy as np\n",
    "import matplotlib.pyplot as plt\n",
    "import seaborn as sns\n",
    "import warnings\n",
    "warnings.filterwarnings('ignore')"
   ]
  },
  {
   "cell_type": "code",
   "execution_count": 92,
   "metadata": {},
   "outputs": [],
   "source": [
    "# Importing Dataset into a Dataframe\n",
    "adv_channel=pd.read_csv('advertising.csv')"
   ]
  },
  {
   "cell_type": "code",
   "execution_count": 3,
   "metadata": {},
   "outputs": [],
   "source": [
    "#to display complete data\n",
    "pd.set_option('display.max_rows',None)"
   ]
  },
  {
   "cell_type": "code",
   "execution_count": 4,
   "metadata": {},
   "outputs": [
    {
     "data": {
      "text/html": [
       "<div>\n",
       "<style scoped>\n",
       "    .dataframe tbody tr th:only-of-type {\n",
       "        vertical-align: middle;\n",
       "    }\n",
       "\n",
       "    .dataframe tbody tr th {\n",
       "        vertical-align: top;\n",
       "    }\n",
       "\n",
       "    .dataframe thead th {\n",
       "        text-align: right;\n",
       "    }\n",
       "</style>\n",
       "<table border=\"1\" class=\"dataframe\">\n",
       "  <thead>\n",
       "    <tr style=\"text-align: right;\">\n",
       "      <th></th>\n",
       "      <th>Unnamed: 0</th>\n",
       "      <th>TV</th>\n",
       "      <th>radio</th>\n",
       "      <th>newspaper</th>\n",
       "      <th>sales</th>\n",
       "    </tr>\n",
       "  </thead>\n",
       "  <tbody>\n",
       "    <tr>\n",
       "      <th>0</th>\n",
       "      <td>1</td>\n",
       "      <td>230.1</td>\n",
       "      <td>37.8</td>\n",
       "      <td>69.2</td>\n",
       "      <td>22.1</td>\n",
       "    </tr>\n",
       "    <tr>\n",
       "      <th>1</th>\n",
       "      <td>2</td>\n",
       "      <td>44.5</td>\n",
       "      <td>39.3</td>\n",
       "      <td>45.1</td>\n",
       "      <td>10.4</td>\n",
       "    </tr>\n",
       "    <tr>\n",
       "      <th>2</th>\n",
       "      <td>3</td>\n",
       "      <td>17.2</td>\n",
       "      <td>45.9</td>\n",
       "      <td>69.3</td>\n",
       "      <td>9.3</td>\n",
       "    </tr>\n",
       "    <tr>\n",
       "      <th>3</th>\n",
       "      <td>4</td>\n",
       "      <td>151.5</td>\n",
       "      <td>41.3</td>\n",
       "      <td>58.5</td>\n",
       "      <td>18.5</td>\n",
       "    </tr>\n",
       "    <tr>\n",
       "      <th>4</th>\n",
       "      <td>5</td>\n",
       "      <td>180.8</td>\n",
       "      <td>10.8</td>\n",
       "      <td>58.4</td>\n",
       "      <td>12.9</td>\n",
       "    </tr>\n",
       "  </tbody>\n",
       "</table>\n",
       "</div>"
      ],
      "text/plain": [
       "   Unnamed: 0     TV  radio  newspaper  sales\n",
       "0           1  230.1   37.8       69.2   22.1\n",
       "1           2   44.5   39.3       45.1   10.4\n",
       "2           3   17.2   45.9       69.3    9.3\n",
       "3           4  151.5   41.3       58.5   18.5\n",
       "4           5  180.8   10.8       58.4   12.9"
      ]
     },
     "execution_count": 4,
     "metadata": {},
     "output_type": "execute_result"
    }
   ],
   "source": [
    "adv_channel.head()"
   ]
  },
  {
   "cell_type": "code",
   "execution_count": 5,
   "metadata": {},
   "outputs": [
    {
     "data": {
      "text/html": [
       "<div>\n",
       "<style scoped>\n",
       "    .dataframe tbody tr th:only-of-type {\n",
       "        vertical-align: middle;\n",
       "    }\n",
       "\n",
       "    .dataframe tbody tr th {\n",
       "        vertical-align: top;\n",
       "    }\n",
       "\n",
       "    .dataframe thead th {\n",
       "        text-align: right;\n",
       "    }\n",
       "</style>\n",
       "<table border=\"1\" class=\"dataframe\">\n",
       "  <thead>\n",
       "    <tr style=\"text-align: right;\">\n",
       "      <th></th>\n",
       "      <th>Unnamed: 0</th>\n",
       "      <th>TV</th>\n",
       "      <th>radio</th>\n",
       "      <th>newspaper</th>\n",
       "      <th>sales</th>\n",
       "    </tr>\n",
       "  </thead>\n",
       "  <tbody>\n",
       "    <tr>\n",
       "      <th>195</th>\n",
       "      <td>196</td>\n",
       "      <td>38.2</td>\n",
       "      <td>3.7</td>\n",
       "      <td>13.8</td>\n",
       "      <td>7.6</td>\n",
       "    </tr>\n",
       "    <tr>\n",
       "      <th>196</th>\n",
       "      <td>197</td>\n",
       "      <td>94.2</td>\n",
       "      <td>4.9</td>\n",
       "      <td>8.1</td>\n",
       "      <td>9.7</td>\n",
       "    </tr>\n",
       "    <tr>\n",
       "      <th>197</th>\n",
       "      <td>198</td>\n",
       "      <td>177.0</td>\n",
       "      <td>9.3</td>\n",
       "      <td>6.4</td>\n",
       "      <td>12.8</td>\n",
       "    </tr>\n",
       "    <tr>\n",
       "      <th>198</th>\n",
       "      <td>199</td>\n",
       "      <td>283.6</td>\n",
       "      <td>42.0</td>\n",
       "      <td>66.2</td>\n",
       "      <td>25.5</td>\n",
       "    </tr>\n",
       "    <tr>\n",
       "      <th>199</th>\n",
       "      <td>200</td>\n",
       "      <td>232.1</td>\n",
       "      <td>8.6</td>\n",
       "      <td>8.7</td>\n",
       "      <td>13.4</td>\n",
       "    </tr>\n",
       "  </tbody>\n",
       "</table>\n",
       "</div>"
      ],
      "text/plain": [
       "     Unnamed: 0     TV  radio  newspaper  sales\n",
       "195         196   38.2    3.7       13.8    7.6\n",
       "196         197   94.2    4.9        8.1    9.7\n",
       "197         198  177.0    9.3        6.4   12.8\n",
       "198         199  283.6   42.0       66.2   25.5\n",
       "199         200  232.1    8.6        8.7   13.4"
      ]
     },
     "execution_count": 5,
     "metadata": {},
     "output_type": "execute_result"
    }
   ],
   "source": [
    "adv_channel.tail()"
   ]
  },
  {
   "cell_type": "code",
   "execution_count": 6,
   "metadata": {},
   "outputs": [
    {
     "name": "stdout",
     "output_type": "stream",
     "text": [
      "<class 'pandas.core.frame.DataFrame'>\n",
      "RangeIndex: 200 entries, 0 to 199\n",
      "Data columns (total 5 columns):\n",
      " #   Column      Non-Null Count  Dtype  \n",
      "---  ------      --------------  -----  \n",
      " 0   Unnamed: 0  200 non-null    int64  \n",
      " 1   TV          200 non-null    float64\n",
      " 2   radio       200 non-null    float64\n",
      " 3   newspaper   200 non-null    float64\n",
      " 4   sales       200 non-null    float64\n",
      "dtypes: float64(4), int64(1)\n",
      "memory usage: 7.9 KB\n"
     ]
    }
   ],
   "source": [
    "adv_channel.info()"
   ]
  },
  {
   "cell_type": "code",
   "execution_count": 7,
   "metadata": {},
   "outputs": [
    {
     "data": {
      "text/plain": [
       "Unnamed: 0      int64\n",
       "TV            float64\n",
       "radio         float64\n",
       "newspaper     float64\n",
       "sales         float64\n",
       "dtype: object"
      ]
     },
     "execution_count": 7,
     "metadata": {},
     "output_type": "execute_result"
    }
   ],
   "source": [
    "adv_channel.dtypes"
   ]
  },
  {
   "cell_type": "code",
   "execution_count": 93,
   "metadata": {},
   "outputs": [
    {
     "data": {
      "text/plain": [
       "(200, 5)"
      ]
     },
     "execution_count": 93,
     "metadata": {},
     "output_type": "execute_result"
    }
   ],
   "source": [
    "adv_channel.shape"
   ]
  },
  {
   "cell_type": "code",
   "execution_count": 120,
   "metadata": {},
   "outputs": [],
   "source": [
    "#Removing non relevant column\n",
    "adv_channel=adv_channel.drop(['Unnamed: 0'],axis=1)"
   ]
  },
  {
   "cell_type": "markdown",
   "metadata": {},
   "source": [
    "# Checking null values"
   ]
  },
  {
   "cell_type": "code",
   "execution_count": 10,
   "metadata": {},
   "outputs": [
    {
     "data": {
      "text/plain": [
       "TV           0\n",
       "radio        0\n",
       "newspaper    0\n",
       "sales        0\n",
       "dtype: int64"
      ]
     },
     "execution_count": 10,
     "metadata": {},
     "output_type": "execute_result"
    }
   ],
   "source": [
    "adv_channel.isnull().sum()"
   ]
  },
  {
   "cell_type": "code",
   "execution_count": 11,
   "metadata": {},
   "outputs": [
    {
     "data": {
      "text/html": [
       "<div>\n",
       "<style scoped>\n",
       "    .dataframe tbody tr th:only-of-type {\n",
       "        vertical-align: middle;\n",
       "    }\n",
       "\n",
       "    .dataframe tbody tr th {\n",
       "        vertical-align: top;\n",
       "    }\n",
       "\n",
       "    .dataframe thead th {\n",
       "        text-align: right;\n",
       "    }\n",
       "</style>\n",
       "<table border=\"1\" class=\"dataframe\">\n",
       "  <thead>\n",
       "    <tr style=\"text-align: right;\">\n",
       "      <th></th>\n",
       "      <th>TV</th>\n",
       "      <th>radio</th>\n",
       "      <th>newspaper</th>\n",
       "      <th>sales</th>\n",
       "    </tr>\n",
       "  </thead>\n",
       "  <tbody>\n",
       "    <tr>\n",
       "      <th>count</th>\n",
       "      <td>200.000000</td>\n",
       "      <td>200.000000</td>\n",
       "      <td>200.000000</td>\n",
       "      <td>200.000000</td>\n",
       "    </tr>\n",
       "    <tr>\n",
       "      <th>mean</th>\n",
       "      <td>147.042500</td>\n",
       "      <td>23.264000</td>\n",
       "      <td>30.554000</td>\n",
       "      <td>14.022500</td>\n",
       "    </tr>\n",
       "    <tr>\n",
       "      <th>std</th>\n",
       "      <td>85.854236</td>\n",
       "      <td>14.846809</td>\n",
       "      <td>21.778621</td>\n",
       "      <td>5.217457</td>\n",
       "    </tr>\n",
       "    <tr>\n",
       "      <th>min</th>\n",
       "      <td>0.700000</td>\n",
       "      <td>0.000000</td>\n",
       "      <td>0.300000</td>\n",
       "      <td>1.600000</td>\n",
       "    </tr>\n",
       "    <tr>\n",
       "      <th>25%</th>\n",
       "      <td>74.375000</td>\n",
       "      <td>9.975000</td>\n",
       "      <td>12.750000</td>\n",
       "      <td>10.375000</td>\n",
       "    </tr>\n",
       "    <tr>\n",
       "      <th>50%</th>\n",
       "      <td>149.750000</td>\n",
       "      <td>22.900000</td>\n",
       "      <td>25.750000</td>\n",
       "      <td>12.900000</td>\n",
       "    </tr>\n",
       "    <tr>\n",
       "      <th>75%</th>\n",
       "      <td>218.825000</td>\n",
       "      <td>36.525000</td>\n",
       "      <td>45.100000</td>\n",
       "      <td>17.400000</td>\n",
       "    </tr>\n",
       "    <tr>\n",
       "      <th>max</th>\n",
       "      <td>296.400000</td>\n",
       "      <td>49.600000</td>\n",
       "      <td>114.000000</td>\n",
       "      <td>27.000000</td>\n",
       "    </tr>\n",
       "  </tbody>\n",
       "</table>\n",
       "</div>"
      ],
      "text/plain": [
       "               TV       radio   newspaper       sales\n",
       "count  200.000000  200.000000  200.000000  200.000000\n",
       "mean   147.042500   23.264000   30.554000   14.022500\n",
       "std     85.854236   14.846809   21.778621    5.217457\n",
       "min      0.700000    0.000000    0.300000    1.600000\n",
       "25%     74.375000    9.975000   12.750000   10.375000\n",
       "50%    149.750000   22.900000   25.750000   12.900000\n",
       "75%    218.825000   36.525000   45.100000   17.400000\n",
       "max    296.400000   49.600000  114.000000   27.000000"
      ]
     },
     "execution_count": 11,
     "metadata": {},
     "output_type": "execute_result"
    }
   ],
   "source": [
    "adv_channel.describe()"
   ]
  },
  {
   "cell_type": "markdown",
   "metadata": {},
   "source": [
    "We see there is slight difference between mean and median in the TV and Radio column. We do observe a around 5 point difference between mean and median in the Newspaper column. Also as the mean is higher then the median we see a slightly left skewed data. There is also a big difference in 75th percentile and the max value which hints the possibility of outliers."
   ]
  },
  {
   "cell_type": "markdown",
   "metadata": {},
   "source": [
    "# TV"
   ]
  },
  {
   "cell_type": "code",
   "execution_count": 97,
   "metadata": {},
   "outputs": [
    {
     "data": {
      "text/plain": [
       "<function matplotlib.pyplot.show(close=None, block=None)>"
      ]
     },
     "execution_count": 97,
     "metadata": {},
     "output_type": "execute_result"
    },
    {
     "data": {
      "image/png": "[encoded data removed]",
      "text/plain": [
       "<Figure size 432x288 with 1 Axes>"
      ]
     },
     "metadata": {
      "needs_background": "light"
     },
     "output_type": "display_data"
    }
   ],
   "source": [
    "sns.violinplot(x='TV',data=adv_channel)\n",
    "plt.show"
   ]
  },
  {
   "cell_type": "code",
   "execution_count": 117,
   "metadata": {},
   "outputs": [
    {
     "data": {
      "text/plain": [
       "(array([11., 15.,  9.,  6.,  9., 12., 10.,  8.,  8., 11.,  5., 12.,  8.,\n",
       "        14., 17.,  9., 13.,  7.,  7.,  9.]),\n",
       " array([  0.7  ,  15.485,  30.27 ,  45.055,  59.84 ,  74.625,  89.41 ,\n",
       "        104.195, 118.98 , 133.765, 148.55 , 163.335, 178.12 , 192.905,\n",
       "        207.69 , 222.475, 237.26 , 252.045, 266.83 , 281.615, 296.4  ]),\n",
       " <BarContainer object of 20 artists>)"
      ]
     },
     "execution_count": 117,
     "metadata": {},
     "output_type": "execute_result"
    },
    {
     "data": {
      "image/png": "[encoded data removed]",
      "text/plain": [
       "<Figure size 432x288 with 1 Axes>"
      ]
     },
     "metadata": {},
     "output_type": "display_data"
    }
   ],
   "source": [
    "plt.hist(adv_channel['TV'],bins=20)"
   ]
  },
  {
   "cell_type": "markdown",
   "metadata": {},
   "source": [
    "As seen with the violin plot and histogram TV has the majority of sales. Number of sales occuring maximum times is between 200-230k."
   ]
  },
  {
   "cell_type": "markdown",
   "metadata": {},
   "source": [
    "# Radio"
   ]
  },
  {
   "cell_type": "code",
   "execution_count": 99,
   "metadata": {},
   "outputs": [
    {
     "data": {
      "text/plain": [
       "<function matplotlib.pyplot.show(close=None, block=None)>"
      ]
     },
     "execution_count": 99,
     "metadata": {},
     "output_type": "execute_result"
    },
    {
     "data": {
      "image/png": "[encoded data removed]",
      "text/plain": [
       "<Figure size 432x288 with 1 Axes>"
      ]
     },
     "metadata": {},
     "output_type": "display_data"
    }
   ],
   "source": [
    "sns.violinplot(x='radio',data=adv_channel)\n",
    "plt.show"
   ]
  },
  {
   "cell_type": "code",
   "execution_count": 116,
   "metadata": {},
   "outputs": [
    {
     "data": {
      "text/plain": [
       "(array([15., 15.,  9., 11., 12.,  9., 10.,  7., 11.,  7., 10., 13.,  4.,\n",
       "        10., 11., 10., 10., 11.,  6.,  9.]),\n",
       " array([ 0.  ,  2.48,  4.96,  7.44,  9.92, 12.4 , 14.88, 17.36, 19.84,\n",
       "        22.32, 24.8 , 27.28, 29.76, 32.24, 34.72, 37.2 , 39.68, 42.16,\n",
       "        44.64, 47.12, 49.6 ]),\n",
       " <BarContainer object of 20 artists>)"
      ]
     },
     "execution_count": 116,
     "metadata": {},
     "output_type": "execute_result"
    },
    {
     "data": {
      "image/png": "[encoded data removed]",
      "text/plain": [
       "<Figure size 432x288 with 1 Axes>"
      ]
     },
     "metadata": {},
     "output_type": "display_data"
    }
   ],
   "source": [
    "plt.hist(adv_channel['radio'],bins=20)"
   ]
  },
  {
   "cell_type": "markdown",
   "metadata": {},
   "source": [
    "Radio takes the second spot as the favourite channel for sales. Although radio too has a favouratism in the world but visuals have more impact on the viewers. This is why radio has the sales figure till 50k. As seen in the violin and histogram plot, frequency of sales figure between 0 to 15k is higher. A good frequency of sales figure between 20k to 45k is also observed. "
   ]
  },
  {
   "cell_type": "code",
   "execution_count": 124,
   "metadata": {},
   "outputs": [
    {
     "data": {
      "text/plain": [
       "<function matplotlib.pyplot.show(close=None, block=None)>"
      ]
     },
     "execution_count": 124,
     "metadata": {},
     "output_type": "execute_result"
    },
    {
     "data": {
      "image/png": "[encoded data removed]",
      "text/plain": [
       "<Figure size 432x288 with 1 Axes>"
      ]
     },
     "metadata": {},
     "output_type": "display_data"
    }
   ],
   "source": [
    "sns.violinplot(x='newspaper',data=adv_channel)\n",
    "plt.show"
   ]
  },
  {
   "cell_type": "code",
   "execution_count": 123,
   "metadata": {},
   "outputs": [
    {
     "data": {
      "text/plain": [
       "(array([20., 27., 16., 25., 19., 16., 18., 12., 14.,  7.,  8.,  5.,  6.,\n",
       "         3.,  1.,  1.,  0.,  1.,  0.,  1.]),\n",
       " array([  0.3  ,   5.985,  11.67 ,  17.355,  23.04 ,  28.725,  34.41 ,\n",
       "         40.095,  45.78 ,  51.465,  57.15 ,  62.835,  68.52 ,  74.205,\n",
       "         79.89 ,  85.575,  91.26 ,  96.945, 102.63 , 108.315, 114.   ]),\n",
       " <BarContainer object of 20 artists>)"
      ]
     },
     "execution_count": 123,
     "metadata": {},
     "output_type": "execute_result"
    },
    {
     "data": {
      "image/png": "[encoded data removed]",
      "text/plain": [
       "<Figure size 432x288 with 1 Axes>"
      ]
     },
     "metadata": {},
     "output_type": "display_data"
    }
   ],
   "source": [
    "plt.hist(adv_channel['newspaper'],bins=20)"
   ]
  },
  {
   "cell_type": "markdown",
   "metadata": {},
   "source": [
    "Newspaper has a significant impact on pur society. Even when the television was not available newspaper was the only source for news and information gain. \n",
    "\n",
    "Today as well newspaper is considered as one of the leading sources for the news but as the dataset suggest and what we observe from violin and histogram plot we do see that newspaper is certainly not the best option in terms of sales. Having maximum frequency of sales figure ranging between 10k-30k only newspaper doesnt seem to contribute much towards the revenue generation and piking up sales figures."
   ]
  },
  {
   "cell_type": "markdown",
   "metadata": {},
   "source": [
    "# Bivariate Analysis"
   ]
  },
  {
   "cell_type": "code",
   "execution_count": 125,
   "metadata": {},
   "outputs": [
    {
     "data": {
      "image/png": "[encoded data removed]",
      "text/plain": [
       "<Figure size 432x288 with 1 Axes>"
      ]
     },
     "metadata": {},
     "output_type": "display_data"
    }
   ],
   "source": [
    "#TV VS Sales\n",
    "plt.title('TV VS Sales')\n",
    "plt.xlabel('TV')\n",
    "plt.ylabel('Sales')\n",
    "sns.scatterplot(adv_channel['TV'],adv_channel['sales'])\n",
    "plt.show()"
   ]
  },
  {
   "cell_type": "markdown",
   "metadata": {},
   "source": [
    "As observed with violin and histogram, TV contribute very positively and most towards the Sales and thus in turn revenue generation. "
   ]
  },
  {
   "cell_type": "code",
   "execution_count": 126,
   "metadata": {},
   "outputs": [
    {
     "data": {
      "image/png": "[encoded data removed]",
      "text/plain": [
       "<Figure size 432x288 with 1 Axes>"
      ]
     },
     "metadata": {},
     "output_type": "display_data"
    }
   ],
   "source": [
    "# Radio VS Sales\n",
    "plt.title('Radio VS Sales')\n",
    "plt.xlabel('Radio')\n",
    "plt.ylabel('Sales')\n",
    "sns.scatterplot(adv_channel['radio'],adv_channel['sales'])\n",
    "plt.show()"
   ]
  },
  {
   "cell_type": "markdown",
   "metadata": {},
   "source": [
    "In case of radio we do see some sort of positively relationship but the figures of sales through radio do not purely enhance the Sales revenue."
   ]
  },
  {
   "cell_type": "code",
   "execution_count": 127,
   "metadata": {},
   "outputs": [
    {
     "data": {
      "image/png": "[encoded data removed]",
      "text/plain": [
       "<Figure size 432x288 with 1 Axes>"
      ]
     },
     "metadata": {},
     "output_type": "display_data"
    }
   ],
   "source": [
    "# Newspaper VS Sales\n",
    "plt.title('Newspaper VS Sales')\n",
    "plt.xlabel('Newspaper')\n",
    "plt.ylabel('Sales')\n",
    "sns.scatterplot(adv_channel['newspaper'],adv_channel['sales'])\n",
    "plt.show()"
   ]
  },
  {
   "cell_type": "markdown",
   "metadata": {},
   "source": [
    "Newspaper as described above as well, has the least impact in term of sales. With sales through newspaper ranges more between 10k-30k and the frequency of higher sales figure is very less, there isn't any pure or strong positive relation seen with the Sales figure or revenue generation."
   ]
  },
  {
   "cell_type": "code",
   "execution_count": 121,
   "metadata": {},
   "outputs": [
    {
     "data": {
      "text/plain": [
       "<seaborn.axisgrid.PairGrid at 0x29504e96340>"
      ]
     },
     "execution_count": 121,
     "metadata": {},
     "output_type": "execute_result"
    },
    {
     "data": {
      "image/png": "[encoded data removed]",
      "text/plain": [
       "<Figure size 720x720 with 20 Axes>"
      ]
     },
     "metadata": {},
     "output_type": "display_data"
    }
   ],
   "source": [
    "sns.pairplot(adv_channel)"
   ]
  },
  {
   "cell_type": "markdown",
   "metadata": {},
   "source": [
    "An overall view of the described observations using Pairplot"
   ]
  },
  {
   "cell_type": "markdown",
   "metadata": {},
   "source": [
    "# Checking Correlation"
   ]
  },
  {
   "cell_type": "code",
   "execution_count": 128,
   "metadata": {},
   "outputs": [
    {
     "data": {
      "text/html": [
       "<div>\n",
       "<style scoped>\n",
       "    .dataframe tbody tr th:only-of-type {\n",
       "        vertical-align: middle;\n",
       "    }\n",
       "\n",
       "    .dataframe tbody tr th {\n",
       "        vertical-align: top;\n",
       "    }\n",
       "\n",
       "    .dataframe thead th {\n",
       "        text-align: right;\n",
       "    }\n",
       "</style>\n",
       "<table border=\"1\" class=\"dataframe\">\n",
       "  <thead>\n",
       "    <tr style=\"text-align: right;\">\n",
       "      <th></th>\n",
       "      <th>TV</th>\n",
       "      <th>radio</th>\n",
       "      <th>newspaper</th>\n",
       "      <th>sales</th>\n",
       "    </tr>\n",
       "  </thead>\n",
       "  <tbody>\n",
       "    <tr>\n",
       "      <th>TV</th>\n",
       "      <td>1.000000</td>\n",
       "      <td>0.054809</td>\n",
       "      <td>0.056648</td>\n",
       "      <td>0.782224</td>\n",
       "    </tr>\n",
       "    <tr>\n",
       "      <th>radio</th>\n",
       "      <td>0.054809</td>\n",
       "      <td>1.000000</td>\n",
       "      <td>0.354104</td>\n",
       "      <td>0.576223</td>\n",
       "    </tr>\n",
       "    <tr>\n",
       "      <th>newspaper</th>\n",
       "      <td>0.056648</td>\n",
       "      <td>0.354104</td>\n",
       "      <td>1.000000</td>\n",
       "      <td>0.228299</td>\n",
       "    </tr>\n",
       "    <tr>\n",
       "      <th>sales</th>\n",
       "      <td>0.782224</td>\n",
       "      <td>0.576223</td>\n",
       "      <td>0.228299</td>\n",
       "      <td>1.000000</td>\n",
       "    </tr>\n",
       "  </tbody>\n",
       "</table>\n",
       "</div>"
      ],
      "text/plain": [
       "                 TV     radio  newspaper     sales\n",
       "TV         1.000000  0.054809   0.056648  0.782224\n",
       "radio      0.054809  1.000000   0.354104  0.576223\n",
       "newspaper  0.056648  0.354104   1.000000  0.228299\n",
       "sales      0.782224  0.576223   0.228299  1.000000"
      ]
     },
     "execution_count": 128,
     "metadata": {},
     "output_type": "execute_result"
    }
   ],
   "source": [
    "adv_channel_cor=adv_channel.corr()\n",
    "adv_channel_cor"
   ]
  },
  {
   "cell_type": "code",
   "execution_count": 130,
   "metadata": {},
   "outputs": [
    {
     "data": {
      "text/plain": [
       "<function matplotlib.pyplot.show(close=None, block=None)>"
      ]
     },
     "execution_count": 130,
     "metadata": {},
     "output_type": "execute_result"
    },
    {
     "data": {
      "image/png": "[encoded data removed]",
      "text/plain": [
       "<Figure size 720x576 with 2 Axes>"
      ]
     },
     "metadata": {},
     "output_type": "display_data"
    }
   ],
   "source": [
    "# Plotting Heat Map for correlation\n",
    "\n",
    "plt.figure(figsize=(10,8))\n",
    "plt.title('Advertising Sales Channel Correlation')\n",
    "sns.heatmap(adv_channel_cor,annot=True)\n",
    "plt.show"
   ]
  },
  {
   "cell_type": "markdown",
   "metadata": {},
   "source": [
    "We see a strong correlation of Sales with TV followed by Radio and then Newspaper."
   ]
  },
  {
   "cell_type": "markdown",
   "metadata": {},
   "source": [
    "# Checking Outliers"
   ]
  },
  {
   "cell_type": "code",
   "execution_count": 122,
   "metadata": {},
   "outputs": [
    {
     "data": {
      "text/plain": [
       "<AxesSubplot:xlabel='newspaper'>"
      ]
     },
     "execution_count": 122,
     "metadata": {},
     "output_type": "execute_result"
    },
    {
     "data": {
      "image/png": "[encoded data removed]",
      "text/plain": [
       "<Figure size 1440x360 with 3 Axes>"
      ]
     },
     "metadata": {},
     "output_type": "display_data"
    }
   ],
   "source": [
    "fig, ax =plt.subplots(1, 3, figsize=(20, 5))\n",
    "sns.boxplot(adv_channel['TV'], ax=ax[0])\n",
    "sns.boxplot(adv_channel['radio'], ax=ax[1])\n",
    "sns.boxplot(adv_channel['newspaper'], ax=ax[2])"
   ]
  },
  {
   "cell_type": "code",
   "execution_count": null,
   "metadata": {},
   "outputs": [],
   "source": [
    "We observe some outliers in the newspaper columns.  We will remove the outliers and check the loss percentage."
   ]
  },
  {
   "cell_type": "markdown",
   "metadata": {},
   "source": [
    "# Removing Outliers"
   ]
  },
  {
   "cell_type": "code",
   "execution_count": 131,
   "metadata": {},
   "outputs": [],
   "source": [
    "# Using IQR method\n",
    "\n",
    "q3=adv_channel['newspaper'].quantile(0.75)\n",
    "q1=adv_channel['newspaper'].quantile(0.25)\n",
    "iqr=q3-q1\n",
    "ub=q3+1.5*iqr\n",
    "lb=q1-1.5*iqr\n",
    "adv_channel=adv_channel[~((adv_channel['newspaper'] < lb) | (adv_channel['newspaper'] > ub))]"
   ]
  },
  {
   "cell_type": "code",
   "execution_count": 132,
   "metadata": {},
   "outputs": [
    {
     "data": {
      "text/plain": [
       "(198, 4)"
      ]
     },
     "execution_count": 132,
     "metadata": {},
     "output_type": "execute_result"
    }
   ],
   "source": [
    "adv_channel.shape"
   ]
  },
  {
   "cell_type": "markdown",
   "metadata": {},
   "source": [
    "# Loss percentage"
   ]
  },
  {
   "cell_type": "code",
   "execution_count": 29,
   "metadata": {
    "scrolled": true
   },
   "outputs": [
    {
     "name": "stdout",
     "output_type": "stream",
     "text": [
      "1.0\n"
     ]
    }
   ],
   "source": [
    "loss=(200-198)/200*100\n",
    "print(loss)"
   ]
  },
  {
   "cell_type": "markdown",
   "metadata": {},
   "source": [
    "as the loass percentage is only 1% we will move ahead with more refined data."
   ]
  },
  {
   "cell_type": "markdown",
   "metadata": {},
   "source": [
    "# Checking Skewness"
   ]
  },
  {
   "cell_type": "code",
   "execution_count": 133,
   "metadata": {},
   "outputs": [
    {
     "data": {
      "image/png": "[encoded data removed]",
      "text/plain": [
       "<Figure size 432x288 with 1 Axes>"
      ]
     },
     "metadata": {},
     "output_type": "display_data"
    },
    {
     "data": {
      "image/png": "[encoded data removed]",
      "text/plain": [
       "<Figure size 432x288 with 1 Axes>"
      ]
     },
     "metadata": {},
     "output_type": "display_data"
    },
    {
     "data": {
      "image/png": "[encoded data removed]",
      "text/plain": [
       "<Figure size 432x288 with 1 Axes>"
      ]
     },
     "metadata": {},
     "output_type": "display_data"
    },
    {
     "data": {
      "image/png": "[encoded data removed]",
      "text/plain": [
       "<Figure size 432x288 with 1 Axes>"
      ]
     },
     "metadata": {},
     "output_type": "display_data"
    }
   ],
   "source": [
    "#Checking skewness using Distplot for each column\n",
    "for i in adv_channel.columns:\n",
    "    plt.figure()\n",
    "    sns.distplot(adv_channel[i])"
   ]
  },
  {
   "cell_type": "code",
   "execution_count": 18,
   "metadata": {},
   "outputs": [
    {
     "data": {
      "text/plain": [
       "TV          -0.082332\n",
       "radio        0.114842\n",
       "newspaper    0.650112\n",
       "sales        0.407130\n",
       "dtype: float64"
      ]
     },
     "execution_count": 18,
     "metadata": {},
     "output_type": "execute_result"
    }
   ],
   "source": [
    "adv_channel.skew()"
   ]
  },
  {
   "cell_type": "markdown",
   "metadata": {},
   "source": [
    "With threshold value as -/+ 0.5 we see there is a little skewness in newspaper column."
   ]
  },
  {
   "cell_type": "markdown",
   "metadata": {},
   "source": [
    "# Removing Skewness"
   ]
  },
  {
   "cell_type": "code",
   "execution_count": 21,
   "metadata": {},
   "outputs": [
    {
     "data": {
      "text/plain": [
       "TV          -0.082332\n",
       "radio        0.114842\n",
       "newspaper   -0.008290\n",
       "sales        0.407130\n",
       "dtype: float64"
      ]
     },
     "execution_count": 21,
     "metadata": {},
     "output_type": "execute_result"
    }
   ],
   "source": [
    "from sklearn.preprocessing import power_transform\n",
    "adv_channel['newspaper']=power_transform(adv_channel['newspaper'].values.reshape(-1,1))\n",
    "adv_channel.skew()"
   ]
  },
  {
   "cell_type": "markdown",
   "metadata": {},
   "source": [
    "# Splitting Input and Target Data"
   ]
  },
  {
   "cell_type": "code",
   "execution_count": 24,
   "metadata": {},
   "outputs": [
    {
     "name": "stdout",
     "output_type": "stream",
     "text": [
      "      TV  radio  newspaper\n",
      "0  230.1   37.8   1.648697\n",
      "1   44.5   39.3   0.825748\n",
      "2   17.2   45.9   1.651777\n",
      "3  151.5   41.3   1.304941\n",
      "4  180.8   10.8   1.301584 \n",
      "\n",
      "0    22.1\n",
      "1    10.4\n",
      "2     9.3\n",
      "3    18.5\n",
      "4    12.9\n",
      "Name: sales, dtype: float64 \n",
      "\n",
      "(198, 3) \n",
      "\n",
      "(198,)\n"
     ]
    }
   ],
   "source": [
    "x=adv_channel.drop(['sales'],axis=1)\n",
    "y=adv_channel['sales']\n",
    "print(x.head(),'\\n')\n",
    "print(y.head(),'\\n')\n",
    "print(x.shape,'\\n')\n",
    "print(y.shape)"
   ]
  },
  {
   "cell_type": "markdown",
   "metadata": {},
   "source": [
    "# Scaling"
   ]
  },
  {
   "cell_type": "code",
   "execution_count": 26,
   "metadata": {},
   "outputs": [],
   "source": [
    "from sklearn.preprocessing import StandardScaler\n",
    "sc=StandardScaler()"
   ]
  },
  {
   "cell_type": "code",
   "execution_count": 27,
   "metadata": {},
   "outputs": [
    {
     "data": {
      "text/html": [
       "<div>\n",
       "<style scoped>\n",
       "    .dataframe tbody tr th:only-of-type {\n",
       "        vertical-align: middle;\n",
       "    }\n",
       "\n",
       "    .dataframe tbody tr th {\n",
       "        vertical-align: top;\n",
       "    }\n",
       "\n",
       "    .dataframe thead th {\n",
       "        text-align: right;\n",
       "    }\n",
       "</style>\n",
       "<table border=\"1\" class=\"dataframe\">\n",
       "  <thead>\n",
       "    <tr style=\"text-align: right;\">\n",
       "      <th></th>\n",
       "      <th>TV</th>\n",
       "      <th>radio</th>\n",
       "      <th>newspaper</th>\n",
       "    </tr>\n",
       "  </thead>\n",
       "  <tbody>\n",
       "    <tr>\n",
       "      <th>0</th>\n",
       "      <td>0.978697</td>\n",
       "      <td>0.989521</td>\n",
       "      <td>1.648697</td>\n",
       "    </tr>\n",
       "    <tr>\n",
       "      <th>1</th>\n",
       "      <td>-1.199012</td>\n",
       "      <td>1.090705</td>\n",
       "      <td>0.825748</td>\n",
       "    </tr>\n",
       "    <tr>\n",
       "      <th>2</th>\n",
       "      <td>-1.519332</td>\n",
       "      <td>1.535913</td>\n",
       "      <td>1.651777</td>\n",
       "    </tr>\n",
       "    <tr>\n",
       "      <th>3</th>\n",
       "      <td>0.056456</td>\n",
       "      <td>1.225616</td>\n",
       "      <td>1.304941</td>\n",
       "    </tr>\n",
       "    <tr>\n",
       "      <th>4</th>\n",
       "      <td>0.400243</td>\n",
       "      <td>-0.831784</td>\n",
       "      <td>1.301584</td>\n",
       "    </tr>\n",
       "    <tr>\n",
       "      <th>5</th>\n",
       "      <td>-1.619065</td>\n",
       "      <td>1.738280</td>\n",
       "      <td>1.823675</td>\n",
       "    </tr>\n",
       "    <tr>\n",
       "      <th>6</th>\n",
       "      <td>-1.046478</td>\n",
       "      <td>0.652243</td>\n",
       "      <td>-0.129717</td>\n",
       "    </tr>\n",
       "    <tr>\n",
       "      <th>7</th>\n",
       "      <td>-0.310797</td>\n",
       "      <td>-0.238173</td>\n",
       "      <td>-0.856494</td>\n",
       "    </tr>\n",
       "    <tr>\n",
       "      <th>8</th>\n",
       "      <td>-1.620239</td>\n",
       "      <td>-1.418649</td>\n",
       "      <td>-2.022911</td>\n",
       "    </tr>\n",
       "    <tr>\n",
       "      <th>9</th>\n",
       "      <td>0.623177</td>\n",
       "      <td>-1.384921</td>\n",
       "      <td>-0.252830</td>\n",
       "    </tr>\n",
       "    <tr>\n",
       "      <th>10</th>\n",
       "      <td>-0.945571</td>\n",
       "      <td>-1.169063</td>\n",
       "      <td>-0.093388</td>\n",
       "    </tr>\n",
       "    <tr>\n",
       "      <th>11</th>\n",
       "      <td>0.798004</td>\n",
       "      <td>0.058632</td>\n",
       "      <td>-1.559009</td>\n",
       "    </tr>\n",
       "    <tr>\n",
       "      <th>12</th>\n",
       "      <td>-1.441892</td>\n",
       "      <td>0.807391</td>\n",
       "      <td>1.545770</td>\n",
       "    </tr>\n",
       "    <tr>\n",
       "      <th>13</th>\n",
       "      <td>-0.577144</td>\n",
       "      <td>-1.047642</td>\n",
       "      <td>-1.219279</td>\n",
       "    </tr>\n",
       "    <tr>\n",
       "      <th>14</th>\n",
       "      <td>0.673630</td>\n",
       "      <td>0.658988</td>\n",
       "      <td>0.860004</td>\n",
       "    </tr>\n",
       "    <tr>\n",
       "      <th>15</th>\n",
       "      <td>0.571550</td>\n",
       "      <td>1.657333</td>\n",
       "      <td>1.112213</td>\n",
       "    </tr>\n",
       "    <tr>\n",
       "      <th>16</th>\n",
       "      <td>1.580618</td>\n",
       "      <td>1.110942</td>\n",
       "      <td>1.213242</td>\n",
       "    </tr>\n",
       "    <tr>\n",
       "      <th>17</th>\n",
       "      <td>-0.909198</td>\n",
       "      <td>-0.177463</td>\n",
       "      <td>-0.417601</td>\n",
       "    </tr>\n",
       "    <tr>\n",
       "      <th>18</th>\n",
       "      <td>0.007176</td>\n",
       "      <td>0.051886</td>\n",
       "      <td>-0.370955</td>\n",
       "    </tr>\n",
       "    <tr>\n",
       "      <th>19</th>\n",
       "      <td>0.841417</td>\n",
       "      <td>0.308218</td>\n",
       "      <td>1.129827</td>\n",
       "    </tr>\n",
       "    <tr>\n",
       "      <th>20</th>\n",
       "      <td>1.064351</td>\n",
       "      <td>-1.216282</td>\n",
       "      <td>-0.129717</td>\n",
       "    </tr>\n",
       "    <tr>\n",
       "      <th>21</th>\n",
       "      <td>-1.566265</td>\n",
       "      <td>-0.487760</td>\n",
       "      <td>0.993791</td>\n",
       "    </tr>\n",
       "    <tr>\n",
       "      <th>22</th>\n",
       "      <td>0.957577</td>\n",
       "      <td>-0.420304</td>\n",
       "      <td>0.007808</td>\n",
       "    </tr>\n",
       "    <tr>\n",
       "      <th>23</th>\n",
       "      <td>-0.990158</td>\n",
       "      <td>-0.710364</td>\n",
       "      <td>-0.417601</td>\n",
       "    </tr>\n",
       "    <tr>\n",
       "      <th>24</th>\n",
       "      <td>1.363551</td>\n",
       "      <td>-1.324211</td>\n",
       "      <td>-0.347988</td>\n",
       "    </tr>\n",
       "    <tr>\n",
       "      <th>25</th>\n",
       "      <td>-0.044450</td>\n",
       "      <td>0.416147</td>\n",
       "      <td>-0.784196</td>\n",
       "    </tr>\n",
       "    <tr>\n",
       "      <th>26</th>\n",
       "      <td>1.096031</td>\n",
       "      <td>-0.433795</td>\n",
       "      <td>-0.161262</td>\n",
       "    </tr>\n",
       "    <tr>\n",
       "      <th>27</th>\n",
       "      <td>1.198111</td>\n",
       "      <td>0.267745</td>\n",
       "      <td>-0.161262</td>\n",
       "    </tr>\n",
       "    <tr>\n",
       "      <th>28</th>\n",
       "      <td>-0.892771</td>\n",
       "      <td>-0.481014</td>\n",
       "      <td>0.657187</td>\n",
       "    </tr>\n",
       "    <tr>\n",
       "      <th>29</th>\n",
       "      <td>1.715551</td>\n",
       "      <td>0.348692</td>\n",
       "      <td>0.752296</td>\n",
       "    </tr>\n",
       "    <tr>\n",
       "      <th>30</th>\n",
       "      <td>-0.396451</td>\n",
       "      <td>-0.386576</td>\n",
       "      <td>0.567551</td>\n",
       "    </tr>\n",
       "    <tr>\n",
       "      <th>31</th>\n",
       "      <td>-0.580664</td>\n",
       "      <td>-1.459122</td>\n",
       "      <td>0.190673</td>\n",
       "    </tr>\n",
       "    <tr>\n",
       "      <th>32</th>\n",
       "      <td>1.395231</td>\n",
       "      <td>-0.211191</td>\n",
       "      <td>-2.185016</td>\n",
       "    </tr>\n",
       "    <tr>\n",
       "      <th>33</th>\n",
       "      <td>-0.598264</td>\n",
       "      <td>-1.465868</td>\n",
       "      <td>-1.200740</td>\n",
       "    </tr>\n",
       "    <tr>\n",
       "      <th>34</th>\n",
       "      <td>1.689738</td>\n",
       "      <td>-1.283737</td>\n",
       "      <td>-1.102869</td>\n",
       "    </tr>\n",
       "    <tr>\n",
       "      <th>35</th>\n",
       "      <td>1.410484</td>\n",
       "      <td>1.394256</td>\n",
       "      <td>-1.442382</td>\n",
       "    </tr>\n",
       "    <tr>\n",
       "      <th>36</th>\n",
       "      <td>-0.844665</td>\n",
       "      <td>1.772008</td>\n",
       "      <td>0.848623</td>\n",
       "    </tr>\n",
       "    <tr>\n",
       "      <th>37</th>\n",
       "      <td>-1.215438</td>\n",
       "      <td>0.240763</td>\n",
       "      <td>0.419630</td>\n",
       "    </tr>\n",
       "    <tr>\n",
       "      <th>38</th>\n",
       "      <td>0.954057</td>\n",
       "      <td>0.982776</td>\n",
       "      <td>0.282526</td>\n",
       "    </tr>\n",
       "    <tr>\n",
       "      <th>39</th>\n",
       "      <td>0.654857</td>\n",
       "      <td>-0.056043</td>\n",
       "      <td>0.264379</td>\n",
       "    </tr>\n",
       "    <tr>\n",
       "      <th>40</th>\n",
       "      <td>0.355657</td>\n",
       "      <td>0.692716</td>\n",
       "      <td>0.571679</td>\n",
       "    </tr>\n",
       "    <tr>\n",
       "      <th>41</th>\n",
       "      <td>1.723765</td>\n",
       "      <td>0.308218</td>\n",
       "      <td>-1.873591</td>\n",
       "    </tr>\n",
       "    <tr>\n",
       "      <th>42</th>\n",
       "      <td>0.706484</td>\n",
       "      <td>-0.993678</td>\n",
       "      <td>0.017728</td>\n",
       "    </tr>\n",
       "    <tr>\n",
       "      <th>43</th>\n",
       "      <td>-1.426639</td>\n",
       "      <td>0.173307</td>\n",
       "      <td>0.756201</td>\n",
       "    </tr>\n",
       "    <tr>\n",
       "      <th>44</th>\n",
       "      <td>0.333363</td>\n",
       "      <td>-0.042552</td>\n",
       "      <td>0.259825</td>\n",
       "    </tr>\n",
       "    <tr>\n",
       "      <th>45</th>\n",
       "      <td>-0.668664</td>\n",
       "      <td>-0.892494</td>\n",
       "      <td>0.445481</td>\n",
       "    </tr>\n",
       "    <tr>\n",
       "      <th>46</th>\n",
       "      <td>1.093684</td>\n",
       "      <td>1.239108</td>\n",
       "      <td>-0.405848</td>\n",
       "    </tr>\n",
       "    <tr>\n",
       "      <th>47</th>\n",
       "      <td>0.944671</td>\n",
       "      <td>-0.494505</td>\n",
       "      <td>1.004717</td>\n",
       "    </tr>\n",
       "    <tr>\n",
       "      <th>48</th>\n",
       "      <td>-0.936185</td>\n",
       "      <td>-0.771074</td>\n",
       "      <td>0.492333</td>\n",
       "    </tr>\n",
       "    <tr>\n",
       "      <th>49</th>\n",
       "      <td>0.623177</td>\n",
       "      <td>-1.351193</td>\n",
       "      <td>0.397923</td>\n",
       "    </tr>\n",
       "    <tr>\n",
       "      <th>50</th>\n",
       "      <td>-0.543118</td>\n",
       "      <td>-0.912731</td>\n",
       "      <td>-1.609305</td>\n",
       "    </tr>\n",
       "    <tr>\n",
       "      <th>51</th>\n",
       "      <td>0.817951</td>\n",
       "      <td>1.252599</td>\n",
       "      <td>0.608598</td>\n",
       "    </tr>\n",
       "    <tr>\n",
       "      <th>52</th>\n",
       "      <td>0.421363</td>\n",
       "      <td>1.556150</td>\n",
       "      <td>1.311647</td>\n",
       "    </tr>\n",
       "    <tr>\n",
       "      <th>53</th>\n",
       "      <td>1.361204</td>\n",
       "      <td>0.382420</td>\n",
       "      <td>-0.563882</td>\n",
       "    </tr>\n",
       "    <tr>\n",
       "      <th>54</th>\n",
       "      <td>0.612617</td>\n",
       "      <td>1.772008</td>\n",
       "      <td>1.354959</td>\n",
       "    </tr>\n",
       "    <tr>\n",
       "      <th>55</th>\n",
       "      <td>-1.635492</td>\n",
       "      <td>0.335201</td>\n",
       "      <td>0.681218</td>\n",
       "    </tr>\n",
       "    <tr>\n",
       "      <th>56</th>\n",
       "      <td>-0.123064</td>\n",
       "      <td>-0.265156</td>\n",
       "      <td>-0.520158</td>\n",
       "    </tr>\n",
       "    <tr>\n",
       "      <th>57</th>\n",
       "      <td>0.752244</td>\n",
       "      <td>1.785499</td>\n",
       "      <td>0.530161</td>\n",
       "    </tr>\n",
       "    <tr>\n",
       "      <th>58</th>\n",
       "      <td>0.751070</td>\n",
       "      <td>0.429639</td>\n",
       "      <td>-1.035540</td>\n",
       "    </tr>\n",
       "    <tr>\n",
       "      <th>59</th>\n",
       "      <td>-1.093412</td>\n",
       "      <td>-1.425395</td>\n",
       "      <td>-0.241880</td>\n",
       "    </tr>\n",
       "    <tr>\n",
       "      <th>60</th>\n",
       "      <td>1.344778</td>\n",
       "      <td>1.320055</td>\n",
       "      <td>1.175240</td>\n",
       "    </tr>\n",
       "    <tr>\n",
       "      <th>61</th>\n",
       "      <td>1.086644</td>\n",
       "      <td>-0.514742</td>\n",
       "      <td>0.061947</td>\n",
       "    </tr>\n",
       "    <tr>\n",
       "      <th>62</th>\n",
       "      <td>-0.516131</td>\n",
       "      <td>0.436384</td>\n",
       "      <td>-1.111500</td>\n",
       "    </tr>\n",
       "    <tr>\n",
       "      <th>63</th>\n",
       "      <td>-0.182904</td>\n",
       "      <td>1.326800</td>\n",
       "      <td>0.138914</td>\n",
       "    </tr>\n",
       "    <tr>\n",
       "      <th>64</th>\n",
       "      <td>-0.911545</td>\n",
       "      <td>-0.932968</td>\n",
       "      <td>-2.043826</td>\n",
       "    </tr>\n",
       "    <tr>\n",
       "      <th>65</th>\n",
       "      <td>-1.351545</td>\n",
       "      <td>0.099105</td>\n",
       "      <td>-1.808028</td>\n",
       "    </tr>\n",
       "    <tr>\n",
       "      <th>66</th>\n",
       "      <td>-0.086690</td>\n",
       "      <td>-0.582198</td>\n",
       "      <td>-0.963123</td>\n",
       "    </tr>\n",
       "    <tr>\n",
       "      <th>67</th>\n",
       "      <td>1.064351</td>\n",
       "      <td>0.294727</td>\n",
       "      <td>-0.901364</td>\n",
       "    </tr>\n",
       "    <tr>\n",
       "      <th>68</th>\n",
       "      <td>0.822644</td>\n",
       "      <td>1.401001</td>\n",
       "      <td>0.057068</td>\n",
       "    </tr>\n",
       "    <tr>\n",
       "      <th>69</th>\n",
       "      <td>0.614964</td>\n",
       "      <td>0.503840</td>\n",
       "      <td>0.571679</td>\n",
       "    </tr>\n",
       "    <tr>\n",
       "      <th>70</th>\n",
       "      <td>-0.432824</td>\n",
       "      <td>-0.595689</td>\n",
       "      <td>0.268926</td>\n",
       "    </tr>\n",
       "    <tr>\n",
       "      <th>71</th>\n",
       "      <td>-1.406692</td>\n",
       "      <td>0.665734</td>\n",
       "      <td>-0.359443</td>\n",
       "    </tr>\n",
       "    <tr>\n",
       "      <th>72</th>\n",
       "      <td>-0.202851</td>\n",
       "      <td>-1.175808</td>\n",
       "      <td>0.250697</td>\n",
       "    </tr>\n",
       "    <tr>\n",
       "      <th>73</th>\n",
       "      <td>0.782750</td>\n",
       "      <td>0.099105</td>\n",
       "      <td>-0.749116</td>\n",
       "    </tr>\n",
       "    <tr>\n",
       "      <th>74</th>\n",
       "      <td>-1.522852</td>\n",
       "      <td>1.387510</td>\n",
       "      <td>2.230035</td>\n",
       "    </tr>\n",
       "    <tr>\n",
       "      <th>75</th>\n",
       "      <td>-1.398479</td>\n",
       "      <td>-1.452377</td>\n",
       "      <td>-0.280423</td>\n",
       "    </tr>\n",
       "    <tr>\n",
       "      <th>76</th>\n",
       "      <td>-0.307277</td>\n",
       "      <td>0.362183</td>\n",
       "      <td>-0.674207</td>\n",
       "    </tr>\n",
       "    <tr>\n",
       "      <th>77</th>\n",
       "      <td>-1.657785</td>\n",
       "      <td>0.456621</td>\n",
       "      <td>-1.027328</td>\n",
       "    </tr>\n",
       "    <tr>\n",
       "      <th>78</th>\n",
       "      <td>-0.360077</td>\n",
       "      <td>-1.040897</td>\n",
       "      <td>-0.150704</td>\n",
       "    </tr>\n",
       "    <tr>\n",
       "      <th>79</th>\n",
       "      <td>-0.824718</td>\n",
       "      <td>0.240763</td>\n",
       "      <td>-0.193199</td>\n",
       "    </tr>\n",
       "    <tr>\n",
       "      <th>80</th>\n",
       "      <td>1.092511</td>\n",
       "      <td>-1.283737</td>\n",
       "      <td>0.496558</td>\n",
       "    </tr>\n",
       "    <tr>\n",
       "      <th>81</th>\n",
       "      <td>-0.837625</td>\n",
       "      <td>-0.190954</td>\n",
       "      <td>0.305058</td>\n",
       "    </tr>\n",
       "    <tr>\n",
       "      <th>82</th>\n",
       "      <td>-0.918585</td>\n",
       "      <td>1.441475</td>\n",
       "      <td>0.441187</td>\n",
       "    </tr>\n",
       "    <tr>\n",
       "      <th>83</th>\n",
       "      <td>0.783924</td>\n",
       "      <td>1.340291</td>\n",
       "      <td>0.362875</td>\n",
       "    </tr>\n",
       "    <tr>\n",
       "      <th>84</th>\n",
       "      <td>0.545737</td>\n",
       "      <td>-0.319120</td>\n",
       "      <td>1.539448</td>\n",
       "    </tr>\n",
       "    <tr>\n",
       "      <th>85</th>\n",
       "      <td>-0.825891</td>\n",
       "      <td>0.294727</td>\n",
       "      <td>-0.557579</td>\n",
       "    </tr>\n",
       "    <tr>\n",
       "      <th>86</th>\n",
       "      <td>-0.422264</td>\n",
       "      <td>1.178397</td>\n",
       "      <td>1.459579</td>\n",
       "    </tr>\n",
       "    <tr>\n",
       "      <th>87</th>\n",
       "      <td>-0.685091</td>\n",
       "      <td>0.159816</td>\n",
       "      <td>1.776122</td>\n",
       "    </tr>\n",
       "    <tr>\n",
       "      <th>88</th>\n",
       "      <td>-0.432824</td>\n",
       "      <td>1.664079</td>\n",
       "      <td>1.058860</td>\n",
       "    </tr>\n",
       "    <tr>\n",
       "      <th>89</th>\n",
       "      <td>-0.145357</td>\n",
       "      <td>-1.229773</td>\n",
       "      <td>-1.035540</td>\n",
       "    </tr>\n",
       "    <tr>\n",
       "      <th>90</th>\n",
       "      <td>-1.385572</td>\n",
       "      <td>-1.459122</td>\n",
       "      <td>0.327425</td>\n",
       "    </tr>\n",
       "    <tr>\n",
       "      <th>91</th>\n",
       "      <td>0.833204</td>\n",
       "      <td>0.699462</td>\n",
       "      <td>1.321685</td>\n",
       "    </tr>\n",
       "    <tr>\n",
       "      <th>92</th>\n",
       "      <td>1.222751</td>\n",
       "      <td>0.901829</td>\n",
       "      <td>1.743119</td>\n",
       "    </tr>\n",
       "    <tr>\n",
       "      <th>93</th>\n",
       "      <td>-0.460984</td>\n",
       "      <td>-0.615926</td>\n",
       "      <td>-0.908960</td>\n",
       "    </tr>\n",
       "    <tr>\n",
       "      <th>94</th>\n",
       "      <td>0.194910</td>\n",
       "      <td>0.571296</td>\n",
       "      <td>1.112213</td>\n",
       "    </tr>\n",
       "    <tr>\n",
       "      <th>95</th>\n",
       "      <td>0.597364</td>\n",
       "      <td>-1.324211</td>\n",
       "      <td>-1.346387</td>\n",
       "    </tr>\n",
       "    <tr>\n",
       "      <th>96</th>\n",
       "      <td>0.448350</td>\n",
       "      <td>-0.143735</td>\n",
       "      <td>-0.209320</td>\n",
       "    </tr>\n",
       "    <tr>\n",
       "      <th>97</th>\n",
       "      <td>1.678005</td>\n",
       "      <td>1.293072</td>\n",
       "      <td>1.051687</td>\n",
       "    </tr>\n",
       "    <tr>\n",
       "      <th>98</th>\n",
       "      <td>-0.134797</td>\n",
       "      <td>1.252599</td>\n",
       "      <td>0.856215</td>\n",
       "    </tr>\n",
       "    <tr>\n",
       "      <th>99</th>\n",
       "      <td>0.888351</td>\n",
       "      <td>-1.270246</td>\n",
       "      <td>1.001079</td>\n",
       "    </tr>\n",
       "    <tr>\n",
       "      <th>100</th>\n",
       "      <td>1.566538</td>\n",
       "      <td>-0.879003</td>\n",
       "      <td>-0.241880</td>\n",
       "    </tr>\n",
       "    <tr>\n",
       "      <th>101</th>\n",
       "      <td>0.483550</td>\n",
       "      <td>-0.400067</td>\n",
       "      <td>-0.441297</td>\n",
       "    </tr>\n",
       "    <tr>\n",
       "      <th>102</th>\n",
       "      <td>1.073737</td>\n",
       "      <td>0.753426</td>\n",
       "      <td>-1.409545</td>\n",
       "    </tr>\n",
       "    <tr>\n",
       "      <th>103</th>\n",
       "      <td>-0.103117</td>\n",
       "      <td>1.569641</td>\n",
       "      <td>1.321685</td>\n",
       "    </tr>\n",
       "    <tr>\n",
       "      <th>104</th>\n",
       "      <td>-1.427812</td>\n",
       "      <td>-0.818293</td>\n",
       "      <td>0.176647</td>\n",
       "    </tr>\n",
       "    <tr>\n",
       "      <th>105</th>\n",
       "      <td>-0.660451</td>\n",
       "      <td>-1.540069</td>\n",
       "      <td>-0.145441</td>\n",
       "    </tr>\n",
       "    <tr>\n",
       "      <th>106</th>\n",
       "      <td>-1.567439</td>\n",
       "      <td>-1.533324</td>\n",
       "      <td>-0.022166</td>\n",
       "    </tr>\n",
       "    <tr>\n",
       "      <th>107</th>\n",
       "      <td>1.275551</td>\n",
       "      <td>0.254254</td>\n",
       "      <td>-1.388135</td>\n",
       "    </tr>\n",
       "    <tr>\n",
       "      <th>108</th>\n",
       "      <td>0.928244</td>\n",
       "      <td>-1.007169</td>\n",
       "      <td>1.237228</td>\n",
       "    </tr>\n",
       "    <tr>\n",
       "      <th>109</th>\n",
       "      <td>1.114804</td>\n",
       "      <td>1.003013</td>\n",
       "      <td>-0.145441</td>\n",
       "    </tr>\n",
       "    <tr>\n",
       "      <th>110</th>\n",
       "      <td>0.340403</td>\n",
       "      <td>-0.521487</td>\n",
       "      <td>-1.776981</td>\n",
       "    </tr>\n",
       "    <tr>\n",
       "      <th>111</th>\n",
       "      <td>0.738164</td>\n",
       "      <td>-0.170718</td>\n",
       "      <td>-0.924255</td>\n",
       "    </tr>\n",
       "    <tr>\n",
       "      <th>112</th>\n",
       "      <td>-0.803598</td>\n",
       "      <td>1.596623</td>\n",
       "      <td>0.393564</td>\n",
       "    </tr>\n",
       "    <tr>\n",
       "      <th>113</th>\n",
       "      <td>-0.839971</td>\n",
       "      <td>0.800645</td>\n",
       "      <td>1.105143</td>\n",
       "    </tr>\n",
       "    <tr>\n",
       "      <th>114</th>\n",
       "      <td>-0.087864</td>\n",
       "      <td>-0.595689</td>\n",
       "      <td>-0.022166</td>\n",
       "    </tr>\n",
       "    <tr>\n",
       "      <th>115</th>\n",
       "      <td>-0.824718</td>\n",
       "      <td>-1.506341</td>\n",
       "      <td>-0.634559</td>\n",
       "    </tr>\n",
       "    <tr>\n",
       "      <th>116</th>\n",
       "      <td>-0.246264</td>\n",
       "      <td>0.928811</td>\n",
       "      <td>1.946073</td>\n",
       "    </tr>\n",
       "    <tr>\n",
       "      <th>117</th>\n",
       "      <td>-1.493519</td>\n",
       "      <td>-0.481014</td>\n",
       "      <td>-0.193199</td>\n",
       "    </tr>\n",
       "    <tr>\n",
       "      <th>118</th>\n",
       "      <td>-0.063224</td>\n",
       "      <td>0.247508</td>\n",
       "      <td>0.867571</td>\n",
       "    </tr>\n",
       "    <tr>\n",
       "      <th>119</th>\n",
       "      <td>-1.500559</td>\n",
       "      <td>-0.096516</td>\n",
       "      <td>1.022855</td>\n",
       "    </tr>\n",
       "    <tr>\n",
       "      <th>120</th>\n",
       "      <td>0.907124</td>\n",
       "      <td>-1.398412</td>\n",
       "      <td>-0.582912</td>\n",
       "    </tr>\n",
       "    <tr>\n",
       "      <th>121</th>\n",
       "      <td>-0.276771</td>\n",
       "      <td>0.773663</td>\n",
       "      <td>-0.798421</td>\n",
       "    </tr>\n",
       "    <tr>\n",
       "      <th>122</th>\n",
       "      <td>0.971657</td>\n",
       "      <td>0.618515</td>\n",
       "      <td>1.799964</td>\n",
       "    </tr>\n",
       "    <tr>\n",
       "      <th>123</th>\n",
       "      <td>-0.697998</td>\n",
       "      <td>-0.764328</td>\n",
       "      <td>-0.007139</td>\n",
       "    </tr>\n",
       "    <tr>\n",
       "      <th>124</th>\n",
       "      <td>-1.629625</td>\n",
       "      <td>1.063723</td>\n",
       "      <td>1.030084</td>\n",
       "    </tr>\n",
       "    <tr>\n",
       "      <th>125</th>\n",
       "      <td>-0.780131</td>\n",
       "      <td>-1.560306</td>\n",
       "      <td>-1.043796</td>\n",
       "    </tr>\n",
       "    <tr>\n",
       "      <th>126</th>\n",
       "      <td>0.863711</td>\n",
       "      <td>1.745026</td>\n",
       "      <td>-1.662119</td>\n",
       "    </tr>\n",
       "    <tr>\n",
       "      <th>127</th>\n",
       "      <td>-1.021838</td>\n",
       "      <td>-0.750837</td>\n",
       "      <td>0.748386</td>\n",
       "    </tr>\n",
       "    <tr>\n",
       "      <th>128</th>\n",
       "      <td>-1.712932</td>\n",
       "      <td>1.110942</td>\n",
       "      <td>-1.085755</td>\n",
       "    </tr>\n",
       "    <tr>\n",
       "      <th>129</th>\n",
       "      <td>1.390538</td>\n",
       "      <td>-1.364684</td>\n",
       "      <td>0.744472</td>\n",
       "    </tr>\n",
       "    <tr>\n",
       "      <th>130</th>\n",
       "      <td>-1.622585</td>\n",
       "      <td>0.274490</td>\n",
       "      <td>-1.823963</td>\n",
       "    </tr>\n",
       "    <tr>\n",
       "      <th>131</th>\n",
       "      <td>0.857844</td>\n",
       "      <td>0.699462</td>\n",
       "      <td>0.825748</td>\n",
       "    </tr>\n",
       "    <tr>\n",
       "      <th>132</th>\n",
       "      <td>-1.288185</td>\n",
       "      <td>1.043486</td>\n",
       "      <td>1.536283</td>\n",
       "    </tr>\n",
       "    <tr>\n",
       "      <th>133</th>\n",
       "      <td>-1.154425</td>\n",
       "      <td>1.610114</td>\n",
       "      <td>-1.102869</td>\n",
       "    </tr>\n",
       "    <tr>\n",
       "      <th>134</th>\n",
       "      <td>-1.420772</td>\n",
       "      <td>1.070468</td>\n",
       "      <td>-1.035540</td>\n",
       "    </tr>\n",
       "    <tr>\n",
       "      <th>135</th>\n",
       "      <td>1.490271</td>\n",
       "      <td>0.389165</td>\n",
       "      <td>1.345006</td>\n",
       "    </tr>\n",
       "    <tr>\n",
       "      <th>136</th>\n",
       "      <td>-1.216612</td>\n",
       "      <td>0.186798</td>\n",
       "      <td>-0.291550</td>\n",
       "    </tr>\n",
       "    <tr>\n",
       "      <th>137</th>\n",
       "      <td>0.448350</td>\n",
       "      <td>1.401001</td>\n",
       "      <td>-1.890799</td>\n",
       "    </tr>\n",
       "    <tr>\n",
       "      <th>138</th>\n",
       "      <td>-0.859918</td>\n",
       "      <td>-0.413558</td>\n",
       "      <td>-0.763067</td>\n",
       "    </tr>\n",
       "    <tr>\n",
       "      <th>139</th>\n",
       "      <td>0.551604</td>\n",
       "      <td>0.827628</td>\n",
       "      <td>1.841373</td>\n",
       "    </tr>\n",
       "    <tr>\n",
       "      <th>140</th>\n",
       "      <td>0.866057</td>\n",
       "      <td>0.679225</td>\n",
       "      <td>0.538508</td>\n",
       "    </tr>\n",
       "    <tr>\n",
       "      <th>141</th>\n",
       "      <td>-0.493838</td>\n",
       "      <td>-1.175808</td>\n",
       "      <td>0.389198</td>\n",
       "    </tr>\n",
       "    <tr>\n",
       "      <th>142</th>\n",
       "      <td>-0.592398</td>\n",
       "      <td>-0.561961</td>\n",
       "      <td>0.579919</td>\n",
       "    </tr>\n",
       "    <tr>\n",
       "      <th>143</th>\n",
       "      <td>-0.074957</td>\n",
       "      <td>-1.432140</td>\n",
       "      <td>-1.060442</td>\n",
       "    </tr>\n",
       "    <tr>\n",
       "      <th>144</th>\n",
       "      <td>1.096031</td>\n",
       "      <td>-1.067879</td>\n",
       "      <td>-1.085755</td>\n",
       "    </tr>\n",
       "    <tr>\n",
       "      <th>145</th>\n",
       "      <td>1.132404</td>\n",
       "      <td>1.745026</td>\n",
       "      <td>0.795012</td>\n",
       "    </tr>\n",
       "    <tr>\n",
       "      <th>146</th>\n",
       "      <td>-1.275278</td>\n",
       "      <td>1.158161</td>\n",
       "      <td>-0.834491</td>\n",
       "    </tr>\n",
       "    <tr>\n",
       "      <th>147</th>\n",
       "      <td>-1.196665</td>\n",
       "      <td>0.180052</td>\n",
       "      <td>-0.285980</td>\n",
       "    </tr>\n",
       "    <tr>\n",
       "      <th>148</th>\n",
       "      <td>1.572405</td>\n",
       "      <td>-0.622671</td>\n",
       "      <td>0.500778</td>\n",
       "    </tr>\n",
       "    <tr>\n",
       "      <th>149</th>\n",
       "      <td>-0.301411</td>\n",
       "      <td>-0.993678</td>\n",
       "      <td>0.960813</td>\n",
       "    </tr>\n",
       "    <tr>\n",
       "      <th>150</th>\n",
       "      <td>0.597364</td>\n",
       "      <td>0.011413</td>\n",
       "      <td>-0.674207</td>\n",
       "    </tr>\n",
       "    <tr>\n",
       "      <th>151</th>\n",
       "      <td>0.288777</td>\n",
       "      <td>1.117687</td>\n",
       "      <td>0.530161</td>\n",
       "    </tr>\n",
       "    <tr>\n",
       "      <th>152</th>\n",
       "      <td>0.482377</td>\n",
       "      <td>-0.136990</td>\n",
       "      <td>-1.019159</td>\n",
       "    </tr>\n",
       "    <tr>\n",
       "      <th>153</th>\n",
       "      <td>-1.673039</td>\n",
       "      <td>-0.777819</td>\n",
       "      <td>-1.367088</td>\n",
       "    </tr>\n",
       "    <tr>\n",
       "      <th>154</th>\n",
       "      <td>-0.619384</td>\n",
       "      <td>1.374019</td>\n",
       "      <td>1.026471</td>\n",
       "    </tr>\n",
       "    <tr>\n",
       "      <th>155</th>\n",
       "      <td>0.036510</td>\n",
       "      <td>-1.472614</td>\n",
       "      <td>-0.088239</td>\n",
       "    </tr>\n",
       "    <tr>\n",
       "      <th>156</th>\n",
       "      <td>-1.583865</td>\n",
       "      <td>0.928811</td>\n",
       "      <td>0.829571</td>\n",
       "    </tr>\n",
       "    <tr>\n",
       "      <th>157</th>\n",
       "      <td>-0.175864</td>\n",
       "      <td>-0.319120</td>\n",
       "      <td>0.397923</td>\n",
       "    </tr>\n",
       "    <tr>\n",
       "      <th>158</th>\n",
       "      <td>0.302857</td>\n",
       "      <td>-0.339357</td>\n",
       "      <td>0.223144</td>\n",
       "    </tr>\n",
       "    <tr>\n",
       "      <th>159</th>\n",
       "      <td>-0.715598</td>\n",
       "      <td>0.854610</td>\n",
       "      <td>0.982832</td>\n",
       "    </tr>\n",
       "    <tr>\n",
       "      <th>160</th>\n",
       "      <td>0.489417</td>\n",
       "      <td>-0.339357</td>\n",
       "      <td>-0.022166</td>\n",
       "    </tr>\n",
       "    <tr>\n",
       "      <th>161</th>\n",
       "      <td>0.197257</td>\n",
       "      <td>0.922066</td>\n",
       "      <td>-1.200740</td>\n",
       "    </tr>\n",
       "    <tr>\n",
       "      <th>162</th>\n",
       "      <td>-0.345997</td>\n",
       "      <td>-0.568706</td>\n",
       "      <td>-1.398793</td>\n",
       "    </tr>\n",
       "    <tr>\n",
       "      <th>163</th>\n",
       "      <td>1.030324</td>\n",
       "      <td>-1.330956</td>\n",
       "      <td>2.104170</td>\n",
       "    </tr>\n",
       "    <tr>\n",
       "      <th>164</th>\n",
       "      <td>-1.511119</td>\n",
       "      <td>0.976030</td>\n",
       "      <td>-0.230979</td>\n",
       "    </tr>\n",
       "    <tr>\n",
       "      <th>165</th>\n",
       "      <td>0.705310</td>\n",
       "      <td>-1.209536</td>\n",
       "      <td>-0.353708</td>\n",
       "    </tr>\n",
       "    <tr>\n",
       "      <th>166</th>\n",
       "      <td>0.806217</td>\n",
       "      <td>0.031650</td>\n",
       "      <td>1.274618</td>\n",
       "    </tr>\n",
       "    <tr>\n",
       "      <th>167</th>\n",
       "      <td>1.614645</td>\n",
       "      <td>-0.845275</td>\n",
       "      <td>-1.296049</td>\n",
       "    </tr>\n",
       "    <tr>\n",
       "      <th>168</th>\n",
       "      <td>-1.134478</td>\n",
       "      <td>-0.777819</td>\n",
       "      <td>-0.411716</td>\n",
       "    </tr>\n",
       "    <tr>\n",
       "      <th>169</th>\n",
       "      <td>0.208990</td>\n",
       "      <td>-0.150481</td>\n",
       "      <td>0.912634</td>\n",
       "    </tr>\n",
       "    <tr>\n",
       "      <th>170</th>\n",
       "      <td>-1.491172</td>\n",
       "      <td>-0.204445</td>\n",
       "      <td>-0.495580</td>\n",
       "    </tr>\n",
       "    <tr>\n",
       "      <th>171</th>\n",
       "      <td>0.254750</td>\n",
       "      <td>-1.081370</td>\n",
       "      <td>-0.770083</td>\n",
       "    </tr>\n",
       "    <tr>\n",
       "      <th>172</th>\n",
       "      <td>0.888351</td>\n",
       "      <td>-1.330956</td>\n",
       "      <td>-0.749116</td>\n",
       "    </tr>\n",
       "    <tr>\n",
       "      <th>173</th>\n",
       "      <td>1.527818</td>\n",
       "      <td>1.738280</td>\n",
       "      <td>0.697143</td>\n",
       "    </tr>\n",
       "    <tr>\n",
       "      <th>174</th>\n",
       "      <td>1.193418</td>\n",
       "      <td>0.476858</td>\n",
       "      <td>-0.302730</td>\n",
       "    </tr>\n",
       "    <tr>\n",
       "      <th>175</th>\n",
       "      <td>0.275870</td>\n",
       "      <td>-1.034151</td>\n",
       "      <td>0.423953</td>\n",
       "    </tr>\n",
       "    <tr>\n",
       "      <th>176</th>\n",
       "      <td>1.525471</td>\n",
       "      <td>-1.405158</td>\n",
       "      <td>-0.119286</td>\n",
       "    </tr>\n",
       "    <tr>\n",
       "      <th>177</th>\n",
       "      <td>0.221897</td>\n",
       "      <td>-0.885749</td>\n",
       "      <td>-0.459240</td>\n",
       "    </tr>\n",
       "    <tr>\n",
       "      <th>178</th>\n",
       "      <td>0.116296</td>\n",
       "      <td>-1.384921</td>\n",
       "      <td>-1.120182</td>\n",
       "    </tr>\n",
       "    <tr>\n",
       "      <th>179</th>\n",
       "      <td>0.842591</td>\n",
       "      <td>-1.196045</td>\n",
       "      <td>0.066818</td>\n",
       "    </tr>\n",
       "    <tr>\n",
       "      <th>180</th>\n",
       "      <td>-1.061732</td>\n",
       "      <td>-1.175808</td>\n",
       "      <td>0.176647</td>\n",
       "    </tr>\n",
       "    <tr>\n",
       "      <th>181</th>\n",
       "      <td>1.653365</td>\n",
       "      <td>1.340291</td>\n",
       "      <td>1.728032</td>\n",
       "    </tr>\n",
       "    <tr>\n",
       "      <th>182</th>\n",
       "      <td>1.256778</td>\n",
       "      <td>-0.123499</td>\n",
       "      <td>0.190673</td>\n",
       "    </tr>\n",
       "    <tr>\n",
       "      <th>183</th>\n",
       "      <td>0.684190</td>\n",
       "      <td>1.481948</td>\n",
       "      <td>-0.342282</td>\n",
       "    </tr>\n",
       "    <tr>\n",
       "      <th>184</th>\n",
       "      <td>-0.084344</td>\n",
       "      <td>-1.418649</td>\n",
       "      <td>0.027614</td>\n",
       "    </tr>\n",
       "    <tr>\n",
       "      <th>185</th>\n",
       "      <td>0.521097</td>\n",
       "      <td>0.375674</td>\n",
       "      <td>-0.423501</td>\n",
       "    </tr>\n",
       "    <tr>\n",
       "      <th>186</th>\n",
       "      <td>1.634591</td>\n",
       "      <td>-0.622671</td>\n",
       "      <td>-1.596508</td>\n",
       "    </tr>\n",
       "    <tr>\n",
       "      <th>187</th>\n",
       "      <td>-1.501732</td>\n",
       "      <td>-0.744091</td>\n",
       "      <td>-0.134948</td>\n",
       "    </tr>\n",
       "    <tr>\n",
       "      <th>188</th>\n",
       "      <td>-1.257678</td>\n",
       "      <td>1.212125</td>\n",
       "      <td>-1.356695</td>\n",
       "    </tr>\n",
       "    <tr>\n",
       "      <th>189</th>\n",
       "      <td>-0.835278</td>\n",
       "      <td>-0.831784</td>\n",
       "      <td>-1.336161</td>\n",
       "    </tr>\n",
       "    <tr>\n",
       "      <th>190</th>\n",
       "      <td>-1.519332</td>\n",
       "      <td>-1.283737</td>\n",
       "      <td>0.264379</td>\n",
       "    </tr>\n",
       "    <tr>\n",
       "      <th>191</th>\n",
       "      <td>0.235977</td>\n",
       "      <td>1.272836</td>\n",
       "      <td>-1.609305</td>\n",
       "    </tr>\n",
       "    <tr>\n",
       "      <th>192</th>\n",
       "      <td>0.035336</td>\n",
       "      <td>0.841119</td>\n",
       "      <td>-1.336161</td>\n",
       "    </tr>\n",
       "    <tr>\n",
       "      <th>193</th>\n",
       "      <td>-1.272932</td>\n",
       "      <td>-1.310720</td>\n",
       "      <td>-0.701102</td>\n",
       "    </tr>\n",
       "    <tr>\n",
       "      <th>194</th>\n",
       "      <td>-0.615864</td>\n",
       "      <td>-1.229773</td>\n",
       "      <td>-1.137700</td>\n",
       "    </tr>\n",
       "    <tr>\n",
       "      <th>195</th>\n",
       "      <td>0.355657</td>\n",
       "      <td>-0.932968</td>\n",
       "      <td>-1.296049</td>\n",
       "    </tr>\n",
       "    <tr>\n",
       "      <th>196</th>\n",
       "      <td>1.606431</td>\n",
       "      <td>1.272836</td>\n",
       "      <td>1.555234</td>\n",
       "    </tr>\n",
       "    <tr>\n",
       "      <th>197</th>\n",
       "      <td>1.002164</td>\n",
       "      <td>-0.980187</td>\n",
       "      <td>-1.085755</td>\n",
       "    </tr>\n",
       "  </tbody>\n",
       "</table>\n",
       "</div>"
      ],
      "text/plain": [
       "           TV     radio  newspaper\n",
       "0    0.978697  0.989521   1.648697\n",
       "1   -1.199012  1.090705   0.825748\n",
       "2   -1.519332  1.535913   1.651777\n",
       "3    0.056456  1.225616   1.304941\n",
       "4    0.400243 -0.831784   1.301584\n",
       "5   -1.619065  1.738280   1.823675\n",
       "6   -1.046478  0.652243  -0.129717\n",
       "7   -0.310797 -0.238173  -0.856494\n",
       "8   -1.620239 -1.418649  -2.022911\n",
       "9    0.623177 -1.384921  -0.252830\n",
       "10  -0.945571 -1.169063  -0.093388\n",
       "11   0.798004  0.058632  -1.559009\n",
       "12  -1.441892  0.807391   1.545770\n",
       "13  -0.577144 -1.047642  -1.219279\n",
       "14   0.673630  0.658988   0.860004\n",
       "15   0.571550  1.657333   1.112213\n",
       "16   1.580618  1.110942   1.213242\n",
       "17  -0.909198 -0.177463  -0.417601\n",
       "18   0.007176  0.051886  -0.370955\n",
       "19   0.841417  0.308218   1.129827\n",
       "20   1.064351 -1.216282  -0.129717\n",
       "21  -1.566265 -0.487760   0.993791\n",
       "22   0.957577 -0.420304   0.007808\n",
       "23  -0.990158 -0.710364  -0.417601\n",
       "24   1.363551 -1.324211  -0.347988\n",
       "25  -0.044450  0.416147  -0.784196\n",
       "26   1.096031 -0.433795  -0.161262\n",
       "27   1.198111  0.267745  -0.161262\n",
       "28  -0.892771 -0.481014   0.657187\n",
       "29   1.715551  0.348692   0.752296\n",
       "30  -0.396451 -0.386576   0.567551\n",
       "31  -0.580664 -1.459122   0.190673\n",
       "32   1.395231 -0.211191  -2.185016\n",
       "33  -0.598264 -1.465868  -1.200740\n",
       "34   1.689738 -1.283737  -1.102869\n",
       "35   1.410484  1.394256  -1.442382\n",
       "36  -0.844665  1.772008   0.848623\n",
       "37  -1.215438  0.240763   0.419630\n",
       "38   0.954057  0.982776   0.282526\n",
       "39   0.654857 -0.056043   0.264379\n",
       "40   0.355657  0.692716   0.571679\n",
       "41   1.723765  0.308218  -1.873591\n",
       "42   0.706484 -0.993678   0.017728\n",
       "43  -1.426639  0.173307   0.756201\n",
       "44   0.333363 -0.042552   0.259825\n",
       "45  -0.668664 -0.892494   0.445481\n",
       "46   1.093684  1.239108  -0.405848\n",
       "47   0.944671 -0.494505   1.004717\n",
       "48  -0.936185 -0.771074   0.492333\n",
       "49   0.623177 -1.351193   0.397923\n",
       "50  -0.543118 -0.912731  -1.609305\n",
       "51   0.817951  1.252599   0.608598\n",
       "52   0.421363  1.556150   1.311647\n",
       "53   1.361204  0.382420  -0.563882\n",
       "54   0.612617  1.772008   1.354959\n",
       "55  -1.635492  0.335201   0.681218\n",
       "56  -0.123064 -0.265156  -0.520158\n",
       "57   0.752244  1.785499   0.530161\n",
       "58   0.751070  0.429639  -1.035540\n",
       "59  -1.093412 -1.425395  -0.241880\n",
       "60   1.344778  1.320055   1.175240\n",
       "61   1.086644 -0.514742   0.061947\n",
       "62  -0.516131  0.436384  -1.111500\n",
       "63  -0.182904  1.326800   0.138914\n",
       "64  -0.911545 -0.932968  -2.043826\n",
       "65  -1.351545  0.099105  -1.808028\n",
       "66  -0.086690 -0.582198  -0.963123\n",
       "67   1.064351  0.294727  -0.901364\n",
       "68   0.822644  1.401001   0.057068\n",
       "69   0.614964  0.503840   0.571679\n",
       "70  -0.432824 -0.595689   0.268926\n",
       "71  -1.406692  0.665734  -0.359443\n",
       "72  -0.202851 -1.175808   0.250697\n",
       "73   0.782750  0.099105  -0.749116\n",
       "74  -1.522852  1.387510   2.230035\n",
       "75  -1.398479 -1.452377  -0.280423\n",
       "76  -0.307277  0.362183  -0.674207\n",
       "77  -1.657785  0.456621  -1.027328\n",
       "78  -0.360077 -1.040897  -0.150704\n",
       "79  -0.824718  0.240763  -0.193199\n",
       "80   1.092511 -1.283737   0.496558\n",
       "81  -0.837625 -0.190954   0.305058\n",
       "82  -0.918585  1.441475   0.441187\n",
       "83   0.783924  1.340291   0.362875\n",
       "84   0.545737 -0.319120   1.539448\n",
       "85  -0.825891  0.294727  -0.557579\n",
       "86  -0.422264  1.178397   1.459579\n",
       "87  -0.685091  0.159816   1.776122\n",
       "88  -0.432824  1.664079   1.058860\n",
       "89  -0.145357 -1.229773  -1.035540\n",
       "90  -1.385572 -1.459122   0.327425\n",
       "91   0.833204  0.699462   1.321685\n",
       "92   1.222751  0.901829   1.743119\n",
       "93  -0.460984 -0.615926  -0.908960\n",
       "94   0.194910  0.571296   1.112213\n",
       "95   0.597364 -1.324211  -1.346387\n",
       "96   0.448350 -0.143735  -0.209320\n",
       "97   1.678005  1.293072   1.051687\n",
       "98  -0.134797  1.252599   0.856215\n",
       "99   0.888351 -1.270246   1.001079\n",
       "100  1.566538 -0.879003  -0.241880\n",
       "101  0.483550 -0.400067  -0.441297\n",
       "102  1.073737  0.753426  -1.409545\n",
       "103 -0.103117  1.569641   1.321685\n",
       "104 -1.427812 -0.818293   0.176647\n",
       "105 -0.660451 -1.540069  -0.145441\n",
       "106 -1.567439 -1.533324  -0.022166\n",
       "107  1.275551  0.254254  -1.388135\n",
       "108  0.928244 -1.007169   1.237228\n",
       "109  1.114804  1.003013  -0.145441\n",
       "110  0.340403 -0.521487  -1.776981\n",
       "111  0.738164 -0.170718  -0.924255\n",
       "112 -0.803598  1.596623   0.393564\n",
       "113 -0.839971  0.800645   1.105143\n",
       "114 -0.087864 -0.595689  -0.022166\n",
       "115 -0.824718 -1.506341  -0.634559\n",
       "116 -0.246264  0.928811   1.946073\n",
       "117 -1.493519 -0.481014  -0.193199\n",
       "118 -0.063224  0.247508   0.867571\n",
       "119 -1.500559 -0.096516   1.022855\n",
       "120  0.907124 -1.398412  -0.582912\n",
       "121 -0.276771  0.773663  -0.798421\n",
       "122  0.971657  0.618515   1.799964\n",
       "123 -0.697998 -0.764328  -0.007139\n",
       "124 -1.629625  1.063723   1.030084\n",
       "125 -0.780131 -1.560306  -1.043796\n",
       "126  0.863711  1.745026  -1.662119\n",
       "127 -1.021838 -0.750837   0.748386\n",
       "128 -1.712932  1.110942  -1.085755\n",
       "129  1.390538 -1.364684   0.744472\n",
       "130 -1.622585  0.274490  -1.823963\n",
       "131  0.857844  0.699462   0.825748\n",
       "132 -1.288185  1.043486   1.536283\n",
       "133 -1.154425  1.610114  -1.102869\n",
       "134 -1.420772  1.070468  -1.035540\n",
       "135  1.490271  0.389165   1.345006\n",
       "136 -1.216612  0.186798  -0.291550\n",
       "137  0.448350  1.401001  -1.890799\n",
       "138 -0.859918 -0.413558  -0.763067\n",
       "139  0.551604  0.827628   1.841373\n",
       "140  0.866057  0.679225   0.538508\n",
       "141 -0.493838 -1.175808   0.389198\n",
       "142 -0.592398 -0.561961   0.579919\n",
       "143 -0.074957 -1.432140  -1.060442\n",
       "144  1.096031 -1.067879  -1.085755\n",
       "145  1.132404  1.745026   0.795012\n",
       "146 -1.275278  1.158161  -0.834491\n",
       "147 -1.196665  0.180052  -0.285980\n",
       "148  1.572405 -0.622671   0.500778\n",
       "149 -0.301411 -0.993678   0.960813\n",
       "150  0.597364  0.011413  -0.674207\n",
       "151  0.288777  1.117687   0.530161\n",
       "152  0.482377 -0.136990  -1.019159\n",
       "153 -1.673039 -0.777819  -1.367088\n",
       "154 -0.619384  1.374019   1.026471\n",
       "155  0.036510 -1.472614  -0.088239\n",
       "156 -1.583865  0.928811   0.829571\n",
       "157 -0.175864 -0.319120   0.397923\n",
       "158  0.302857 -0.339357   0.223144\n",
       "159 -0.715598  0.854610   0.982832\n",
       "160  0.489417 -0.339357  -0.022166\n",
       "161  0.197257  0.922066  -1.200740\n",
       "162 -0.345997 -0.568706  -1.398793\n",
       "163  1.030324 -1.330956   2.104170\n",
       "164 -1.511119  0.976030  -0.230979\n",
       "165  0.705310 -1.209536  -0.353708\n",
       "166  0.806217  0.031650   1.274618\n",
       "167  1.614645 -0.845275  -1.296049\n",
       "168 -1.134478 -0.777819  -0.411716\n",
       "169  0.208990 -0.150481   0.912634\n",
       "170 -1.491172 -0.204445  -0.495580\n",
       "171  0.254750 -1.081370  -0.770083\n",
       "172  0.888351 -1.330956  -0.749116\n",
       "173  1.527818  1.738280   0.697143\n",
       "174  1.193418  0.476858  -0.302730\n",
       "175  0.275870 -1.034151   0.423953\n",
       "176  1.525471 -1.405158  -0.119286\n",
       "177  0.221897 -0.885749  -0.459240\n",
       "178  0.116296 -1.384921  -1.120182\n",
       "179  0.842591 -1.196045   0.066818\n",
       "180 -1.061732 -1.175808   0.176647\n",
       "181  1.653365  1.340291   1.728032\n",
       "182  1.256778 -0.123499   0.190673\n",
       "183  0.684190  1.481948  -0.342282\n",
       "184 -0.084344 -1.418649   0.027614\n",
       "185  0.521097  0.375674  -0.423501\n",
       "186  1.634591 -0.622671  -1.596508\n",
       "187 -1.501732 -0.744091  -0.134948\n",
       "188 -1.257678  1.212125  -1.356695\n",
       "189 -0.835278 -0.831784  -1.336161\n",
       "190 -1.519332 -1.283737   0.264379\n",
       "191  0.235977  1.272836  -1.609305\n",
       "192  0.035336  0.841119  -1.336161\n",
       "193 -1.272932 -1.310720  -0.701102\n",
       "194 -0.615864 -1.229773  -1.137700\n",
       "195  0.355657 -0.932968  -1.296049\n",
       "196  1.606431  1.272836   1.555234\n",
       "197  1.002164 -0.980187  -1.085755"
      ]
     },
     "execution_count": 27,
     "metadata": {},
     "output_type": "execute_result"
    }
   ],
   "source": [
    "x_new=sc.fit_transform(x)\n",
    "x=pd.DataFrame(x_new,columns=x.columns)\n",
    "x"
   ]
  },
  {
   "cell_type": "markdown",
   "metadata": {},
   "source": [
    "# Finding the Best Random State"
   ]
  },
  {
   "cell_type": "code",
   "execution_count": 134,
   "metadata": {},
   "outputs": [],
   "source": [
    "# Importing Regression Algorithms\n",
    "from sklearn.svm import SVR\n",
    "from sklearn.tree import DecisionTreeRegressor\n",
    "from sklearn.neighbors import KNeighborsRegressor\n",
    "from sklearn.ensemble import RandomForestRegressor\n",
    "from sklearn.linear_model import LinearRegression\n",
    "from sklearn.linear_model import Lasso\n",
    "from sklearn.model_selection import GridSearchCV\n",
    "from sklearn.model_selection import train_test_split\n",
    "from sklearn.metrics import mean_squared_error,mean_absolute_error,r2_score"
   ]
  },
  {
   "cell_type": "code",
   "execution_count": 30,
   "metadata": {},
   "outputs": [
    {
     "name": "stdout",
     "output_type": "stream",
     "text": [
      "Best R2 Score is :  0.9424622524040677  when Random state is :  444\n"
     ]
    }
   ],
   "source": [
    "maxAccu=0\n",
    "maxRs=0\n",
    "for i in range(1,500):\n",
    "    x_train,x_test,y_train,y_test=train_test_split(x,y,test_size=.30,random_state=i)\n",
    "    lr=LinearRegression()\n",
    "    lr.fit(x_train,y_train)\n",
    "    lr_pred=lr.predict(x_test)\n",
    "    acc=r2_score(y_test,lr_pred)\n",
    "    if acc>maxAccu:\n",
    "        maxAccu=acc\n",
    "        maxRs=i\n",
    "print('Best R2 Score is : ', maxAccu, ' when Random state is : ',maxRs)"
   ]
  },
  {
   "cell_type": "code",
   "execution_count": 31,
   "metadata": {},
   "outputs": [],
   "source": [
    "x_train,x_test,y_train,y_test=train_test_split(x,y,test_size=.30,random_state=444)"
   ]
  },
  {
   "cell_type": "markdown",
   "metadata": {},
   "source": [
    "# Building Model with Various Algorithms"
   ]
  },
  {
   "cell_type": "code",
   "execution_count": 33,
   "metadata": {},
   "outputs": [],
   "source": [
    "# Defining Model List\n",
    "model_list=[LinearRegression(),SVR(),DecisionTreeRegressor(),KNeighborsRegressor(),RandomForestRegressor()]"
   ]
  },
  {
   "cell_type": "code",
   "execution_count": 34,
   "metadata": {},
   "outputs": [
    {
     "name": "stdout",
     "output_type": "stream",
     "text": [
      "Training Accuracy for the model  LinearRegression()  is:  0.875075941202065\n",
      "Testing Accuracy for the model  LinearRegression()  is:  0.9424622524040677\n",
      "\n",
      "\n",
      "Training Accuracy for the model  SVR()  is:  0.9110326423123873\n",
      "Testing Accuracy for the model  SVR()  is:  0.9208478001105446\n",
      "\n",
      "\n",
      "Training Accuracy for the model  DecisionTreeRegressor()  is:  1.0\n",
      "Testing Accuracy for the model  DecisionTreeRegressor()  is:  0.9482408590031111\n",
      "\n",
      "\n",
      "Training Accuracy for the model  KNeighborsRegressor()  is:  0.9513825979253333\n",
      "Testing Accuracy for the model  KNeighborsRegressor()  is:  0.9424848545039229\n",
      "\n",
      "\n",
      "Training Accuracy for the model  RandomForestRegressor()  is:  0.9966812062185499\n",
      "Testing Accuracy for the model  RandomForestRegressor()  is:  0.9764484420290692\n",
      "\n",
      "\n"
     ]
    }
   ],
   "source": [
    "# Creating For loop to print Training and Test accuracy score\n",
    "for m in model_list:\n",
    "    model=m\n",
    "    model.fit(x_train,y_train)\n",
    "    model_pred_train=model.predict(x_train)\n",
    "    model_pred=model.predict(x_test)\n",
    "    print('Training Accuracy for the model ',m,' is: ',r2_score(y_train,model_pred_train))\n",
    "    print('Testing Accuracy for the model ',m,' is: ',r2_score(y_test,model_pred))\n",
    "    print('\\n')\n",
    "    "
   ]
  },
  {
   "cell_type": "markdown",
   "metadata": {},
   "source": [
    "# Cross Validating the Models"
   ]
  },
  {
   "cell_type": "code",
   "execution_count": 35,
   "metadata": {},
   "outputs": [],
   "source": [
    "from sklearn.model_selection import cross_val_score"
   ]
  },
  {
   "cell_type": "code",
   "execution_count": 36,
   "metadata": {},
   "outputs": [
    {
     "name": "stdout",
     "output_type": "stream",
     "text": [
      "At crossfold 2 the CV score of is 88.93865374773739 and the accuracy for testing is 94.24622524040677 \n",
      "\n",
      "\n",
      "At crossfold 3 the CV score of is 88.895360752243 and the accuracy for testing is 94.24622524040677 \n",
      "\n",
      "\n",
      "At crossfold 4 the CV score of is 88.83707489712467 and the accuracy for testing is 94.24622524040677 \n",
      "\n",
      "\n",
      "At crossfold 5 the CV score of is 88.57146539369367 and the accuracy for testing is 94.24622524040677 \n",
      "\n",
      "\n",
      "At crossfold 6 the CV score of is 88.68832903035492 and the accuracy for testing is 94.24622524040677 \n",
      "\n",
      "\n",
      "At crossfold 7 the CV score of is 88.40342847273413 and the accuracy for testing is 94.24622524040677 \n",
      "\n",
      "\n",
      "At crossfold 8 the CV score of is 88.82512823592546 and the accuracy for testing is 94.24622524040677 \n",
      "\n",
      "\n",
      "At crossfold 9 the CV score of is 88.12423747777044 and the accuracy for testing is 94.24622524040677 \n",
      "\n",
      "\n"
     ]
    }
   ],
   "source": [
    "# Linear Regression\n",
    "lr=LinearRegression()\n",
    "lr.fit(x_train,y_train)\n",
    "lr_pred=lr.predict(x_test)\n",
    "testing_accu=r2_score(y_test,lr_pred)*100\n",
    "for k in range(2,10):\n",
    "    cv_score=cross_val_score(lr,x,y,cv=k)\n",
    "    cv_mean=cv_score.mean()*100\n",
    "    print(f'At crossfold {k} the CV score of is {cv_mean} and the accuracy for testing is {testing_accu} ')\n",
    "    print('\\n')"
   ]
  },
  {
   "cell_type": "code",
   "execution_count": 37,
   "metadata": {},
   "outputs": [
    {
     "name": "stdout",
     "output_type": "stream",
     "text": [
      "At crossfold 2 the CV score of is 84.99220694149534 and the accuracy for testing is 92.08478001105446 \n",
      "\n",
      "\n",
      "At crossfold 3 the CV score of is 89.0129373725366 and the accuracy for testing is 92.08478001105446 \n",
      "\n",
      "\n",
      "At crossfold 4 the CV score of is 89.82884368290107 and the accuracy for testing is 92.08478001105446 \n",
      "\n",
      "\n",
      "At crossfold 5 the CV score of is 90.45398186509541 and the accuracy for testing is 92.08478001105446 \n",
      "\n",
      "\n",
      "At crossfold 6 the CV score of is 90.99442897234931 and the accuracy for testing is 92.08478001105446 \n",
      "\n",
      "\n",
      "At crossfold 7 the CV score of is 90.70927307423455 and the accuracy for testing is 92.08478001105446 \n",
      "\n",
      "\n",
      "At crossfold 8 the CV score of is 90.95256438649672 and the accuracy for testing is 92.08478001105446 \n",
      "\n",
      "\n",
      "At crossfold 9 the CV score of is 91.1736556514876 and the accuracy for testing is 92.08478001105446 \n",
      "\n",
      "\n"
     ]
    }
   ],
   "source": [
    "# SVR\n",
    "svr=SVR()\n",
    "svr.fit(x_train,y_train)\n",
    "svr_pred=svr.predict(x_test)\n",
    "testing_accu=r2_score(y_test,svr_pred)*100\n",
    "for k in range(2,10):\n",
    "    cv_score=cross_val_score(svr,x,y,cv=k)\n",
    "    cv_mean=cv_score.mean()*100\n",
    "    print(f'At crossfold {k} the CV score of is {cv_mean} and the accuracy for testing is {testing_accu} ')\n",
    "    print('\\n')"
   ]
  },
  {
   "cell_type": "code",
   "execution_count": 39,
   "metadata": {},
   "outputs": [
    {
     "name": "stdout",
     "output_type": "stream",
     "text": [
      "At crossfold 2 the CV score of is 92.8745400498186 and the accuracy for testing is 94.73678132513564 \n",
      "\n",
      "\n",
      "At crossfold 3 the CV score of is 94.2195701921556 and the accuracy for testing is 94.73678132513564 \n",
      "\n",
      "\n",
      "At crossfold 4 the CV score of is 93.81396949168783 and the accuracy for testing is 94.73678132513564 \n",
      "\n",
      "\n",
      "At crossfold 5 the CV score of is 95.63362965814848 and the accuracy for testing is 94.73678132513564 \n",
      "\n",
      "\n",
      "At crossfold 6 the CV score of is 94.52599819680124 and the accuracy for testing is 94.73678132513564 \n",
      "\n",
      "\n",
      "At crossfold 7 the CV score of is 94.60793077702063 and the accuracy for testing is 94.73678132513564 \n",
      "\n",
      "\n",
      "At crossfold 8 the CV score of is 94.57781069744487 and the accuracy for testing is 94.73678132513564 \n",
      "\n",
      "\n",
      "At crossfold 9 the CV score of is 94.02113088471111 and the accuracy for testing is 94.73678132513564 \n",
      "\n",
      "\n"
     ]
    }
   ],
   "source": [
    "# DecisionTreeClassifier\n",
    "dtr=DecisionTreeRegressor()\n",
    "dtr.fit(x_train,y_train)\n",
    "dtr_pred=dtr.predict(x_test)\n",
    "testing_accu=r2_score(y_test,dtr_pred)*100\n",
    "for k in range(2,10):\n",
    "    cv_score=cross_val_score(dtr,x,y,cv=k)\n",
    "    cv_mean=cv_score.mean()*100\n",
    "    print(f'At crossfold {k} the CV score of is {cv_mean} and the accuracy for testing is {testing_accu} ')\n",
    "    print('\\n')"
   ]
  },
  {
   "cell_type": "code",
   "execution_count": 40,
   "metadata": {},
   "outputs": [
    {
     "name": "stdout",
     "output_type": "stream",
     "text": [
      "At crossfold 2 the CV score of is 92.13498187909441 and the accuracy for testing is 94.2484854503923 \n",
      "\n",
      "\n",
      "At crossfold 3 the CV score of is 91.59005095766486 and the accuracy for testing is 94.2484854503923 \n",
      "\n",
      "\n",
      "At crossfold 4 the CV score of is 93.78205562704308 and the accuracy for testing is 94.2484854503923 \n",
      "\n",
      "\n",
      "At crossfold 5 the CV score of is 93.65223923652131 and the accuracy for testing is 94.2484854503923 \n",
      "\n",
      "\n",
      "At crossfold 6 the CV score of is 93.31328645296368 and the accuracy for testing is 94.2484854503923 \n",
      "\n",
      "\n",
      "At crossfold 7 the CV score of is 93.61832088038447 and the accuracy for testing is 94.2484854503923 \n",
      "\n",
      "\n",
      "At crossfold 8 the CV score of is 93.52171942408995 and the accuracy for testing is 94.2484854503923 \n",
      "\n",
      "\n",
      "At crossfold 9 the CV score of is 93.22640896570259 and the accuracy for testing is 94.2484854503923 \n",
      "\n",
      "\n"
     ]
    }
   ],
   "source": [
    "# KNeighbor Regressor\n",
    "knn=KNeighborsRegressor()\n",
    "knn.fit(x_train,y_train)\n",
    "knn_pred=knn.predict(x_test)\n",
    "testing_accu=r2_score(y_test,knn_pred)*100\n",
    "for k in range(2,10):\n",
    "    cv_score=cross_val_score(knn,x,y,cv=k)\n",
    "    cv_mean=cv_score.mean()*100\n",
    "    print(f'At crossfold {k} the CV score of is {cv_mean} and the accuracy for testing is {testing_accu} ')\n",
    "    print('\\n')"
   ]
  },
  {
   "cell_type": "markdown",
   "metadata": {},
   "source": [
    "# Regularization"
   ]
  },
  {
   "cell_type": "code",
   "execution_count": null,
   "metadata": {},
   "outputs": [],
   "source": [
    "# Using Lasso Regression\n",
    "\n",
    "ls=Lasso()\n",
    "parameters={'random_state':list(range(0,10)),'alpha' : [0.0001,0.001,0.01,0.1,1,10]}\n",
    "gcv_l= GridSearchCV(estimator=ls,param_grid=parameters,scoring='r2')"
   ]
  },
  {
   "cell_type": "code",
   "execution_count": 73,
   "metadata": {},
   "outputs": [
    {
     "data": {
      "text/plain": [
       "{'alpha': 0.1, 'random_state': 0}"
      ]
     },
     "execution_count": 73,
     "metadata": {},
     "output_type": "execute_result"
    }
   ],
   "source": [
    "# Getting Best Parameters\n",
    "\n",
    "gcv_l.fit(x_train,y_train)\n",
    "gcv_l.best_params_"
   ]
  },
  {
   "cell_type": "code",
   "execution_count": 135,
   "metadata": {},
   "outputs": [
    {
     "name": "stdout",
     "output_type": "stream",
     "text": [
      "The CV score of the model is 88.70691861323013 and the R2 Score for testing is 93.86804298407868 \n",
      "\n",
      "\n"
     ]
    }
   ],
   "source": [
    "ls=Lasso(alpha=0.1,random_state=0)\n",
    "ls.fit(x_train,y_train)\n",
    "ls_pred=ls.predict(x_test)\n",
    "testing_accu=r2_score(y_test,ls_pred)*100\n",
    "\n",
    "cv_score=cross_val_score(ls,x,y,cv=5)\n",
    "cv_mean=cv_score.mean()*100\n",
    "print(f'The CV score of the model is {cv_mean} and the R2 Score for testing is {testing_accu} ')\n",
    "print('\\n')"
   ]
  },
  {
   "cell_type": "markdown",
   "metadata": {},
   "source": [
    "# Ensemble : Random Forest Regressor"
   ]
  },
  {
   "cell_type": "code",
   "execution_count": 42,
   "metadata": {},
   "outputs": [
    {
     "name": "stdout",
     "output_type": "stream",
     "text": [
      "At crossfold 2 the CV score of is 96.89624034508552 and the accuracy for testing is 97.62970150150012 \n",
      "\n",
      "\n",
      "At crossfold 3 the CV score of is 97.4227417549658 and the accuracy for testing is 97.62970150150012 \n",
      "\n",
      "\n",
      "At crossfold 4 the CV score of is 97.75768704573039 and the accuracy for testing is 97.62970150150012 \n",
      "\n",
      "\n",
      "At crossfold 5 the CV score of is 97.68467549495674 and the accuracy for testing is 97.62970150150012 \n",
      "\n",
      "\n",
      "At crossfold 6 the CV score of is 97.69106163998215 and the accuracy for testing is 97.62970150150012 \n",
      "\n",
      "\n",
      "At crossfold 7 the CV score of is 97.59294269947016 and the accuracy for testing is 97.62970150150012 \n",
      "\n",
      "\n",
      "At crossfold 8 the CV score of is 97.75653394422436 and the accuracy for testing is 97.62970150150012 \n",
      "\n",
      "\n",
      "At crossfold 9 the CV score of is 97.8395734301063 and the accuracy for testing is 97.62970150150012 \n",
      "\n",
      "\n"
     ]
    }
   ],
   "source": [
    "# RandomForestRegressor\n",
    "rfr=RandomForestRegressor()\n",
    "rfr.fit(x_train,y_train)\n",
    "rfr_pred=rfr.predict(x_test)\n",
    "testing_accu=r2_score(y_test,rfr_pred)*100\n",
    "for k in range(2,10):\n",
    "    cv_score=cross_val_score(rfr,x,y,cv=k)\n",
    "    cv_mean=cv_score.mean()*100\n",
    "    print(f'At crossfold {k} the CV score of is {cv_mean} and the accuracy for testing is {testing_accu} ')\n",
    "    print('\\n')"
   ]
  },
  {
   "cell_type": "markdown",
   "metadata": {},
   "source": [
    "as we see we get the best accuracy with Random Forest algorithm. Cros validating also displays similar scores and there is no overfitting or underfitting in the model. \n",
    "\n",
    "We will further Hyper Tune our model to try for any accuracy improvement."
   ]
  },
  {
   "cell_type": "markdown",
   "metadata": {},
   "source": [
    "# Hyper Parameter Tuning"
   ]
  },
  {
   "cell_type": "code",
   "execution_count": 43,
   "metadata": {},
   "outputs": [],
   "source": [
    "from sklearn.model_selection import GridSearchCV"
   ]
  },
  {
   "cell_type": "code",
   "execution_count": 50,
   "metadata": {},
   "outputs": [],
   "source": [
    "# defining parameters\n",
    "\n",
    "\n",
    "gr_param={'n_estimators':list(range(50,400,50)),'max_depth' : np.arange(2,15),'criterion':['mse','mae'],'max_features':['auto', 'sqrt', 'log2']}\n",
    "gcv= GridSearchCV(estimator=rfr,param_grid=gr_param,scoring='r2',cv=5)"
   ]
  },
  {
   "cell_type": "code",
   "execution_count": 51,
   "metadata": {},
   "outputs": [
    {
     "data": {
      "text/plain": [
       "{'criterion': 'mae',\n",
       " 'max_depth': 12,\n",
       " 'max_features': 'auto',\n",
       " 'n_estimators': 150}"
      ]
     },
     "execution_count": 51,
     "metadata": {},
     "output_type": "execute_result"
    }
   ],
   "source": [
    "# Getting Best Parameters\n",
    "\n",
    "gcv.fit(x_train,y_train)\n",
    "gcv.best_params_"
   ]
  },
  {
   "cell_type": "code",
   "execution_count": 52,
   "metadata": {},
   "outputs": [
    {
     "data": {
      "text/plain": [
       "0.9740327858705167"
      ]
     },
     "execution_count": 52,
     "metadata": {},
     "output_type": "execute_result"
    }
   ],
   "source": [
    "# Getting R2 Score\n",
    "\n",
    "gcv_pred=gcv.best_estimator_.predict(x_test)\n",
    "r2_score(y_test,gcv_pred)"
   ]
  },
  {
   "cell_type": "markdown",
   "metadata": {},
   "source": [
    "Training the model with best parameters and cross validating the score."
   ]
  },
  {
   "cell_type": "code",
   "execution_count": 57,
   "metadata": {
    "scrolled": true
   },
   "outputs": [
    {
     "name": "stdout",
     "output_type": "stream",
     "text": [
      "The CV score of the model is 97.80941821799937 and the R2 Score for testing is 97.58747938449504 \n",
      "\n",
      "\n",
      "Mean Squared Error of the model is :  0.5803010074074069\n",
      "Mean Absolute Error of the model is :  0.5841555555555544\n",
      "Root Mean Squared Error of the model is :  0.7617749059974389 \n",
      "\n"
     ]
    }
   ],
   "source": [
    "# RandomForestClassifier\n",
    "rfr=RandomForestRegressor(criterion='mae',n_estimators=150,max_depth=12,max_features='auto')\n",
    "rfr.fit(x_train,y_train)\n",
    "rfr_pred=rfr.predict(x_test)\n",
    "testing_accu=r2_score(y_test,rfr_pred)*100\n",
    "\n",
    "cv_score=cross_val_score(rfr,x,y,cv=k)\n",
    "cv_mean=cv_score.mean()*100\n",
    "print(f'The CV score of the model is {cv_mean} and the R2 Score for testing is {testing_accu} ')\n",
    "print('\\n')\n",
    "\n",
    "print('Mean Squared Error of the model is : ',mean_squared_error(y_test,rfr_pred))\n",
    "print('Mean Absolute Error of the model is : ',mean_absolute_error(y_test,rfr_pred))\n",
    "print('Root Mean Squared Error of the model is : ',np.sqrt(mean_squared_error(y_test,rfr_pred)),'\\n')"
   ]
  },
  {
   "cell_type": "markdown",
   "metadata": {},
   "source": [
    "We are getting best accuracy with Random Forest regressor, thus this is the best model for our dataset."
   ]
  },
  {
   "cell_type": "markdown",
   "metadata": {},
   "source": [
    "# Plotting the the Graph"
   ]
  },
  {
   "cell_type": "code",
   "execution_count": 85,
   "metadata": {
    "scrolled": true
   },
   "outputs": [
    {
     "data": {
      "image/png": "[encoded data removed]",
      "text/plain": [
       "<Figure size 720x576 with 1 Axes>"
      ]
     },
     "metadata": {
      "needs_background": "light"
     },
     "output_type": "display_data"
    }
   ],
   "source": [
    "plt.figure(figsize=(10,8))\n",
    "plt.scatter(x=y_test,y=rfr_pred,color='m')\n",
    "plt.plot(y_test,y_test)\n",
    "plt.xlabel('Actual Sales')\n",
    "plt.ylabel('Predicted Sales')\n",
    "plt.title(\"Random Forest Regressor\")\n",
    "plt.show()"
   ]
  },
  {
   "cell_type": "markdown",
   "metadata": {},
   "source": [
    "As we see Testing and the predicted data are in a linear position. Predicted data almost touch or very near the actual test data."
   ]
  },
  {
   "cell_type": "markdown",
   "metadata": {},
   "source": [
    "# Saving the model"
   ]
  },
  {
   "cell_type": "code",
   "execution_count": 86,
   "metadata": {},
   "outputs": [],
   "source": [
    "import pickle\n",
    "filename='advt_sales.pkl'\n",
    "pickle.dump(rfr,open(filename,'wb'))"
   ]
  },
  {
   "cell_type": "markdown",
   "metadata": {},
   "source": [
    "# Conclusion"
   ]
  },
  {
   "cell_type": "code",
   "execution_count": 87,
   "metadata": {},
   "outputs": [],
   "source": [
    "load_model=pickle.load(open('advt_sales.pkl','rb'))"
   ]
  },
  {
   "cell_type": "code",
   "execution_count": 88,
   "metadata": {},
   "outputs": [
    {
     "name": "stdout",
     "output_type": "stream",
     "text": [
      "0.9758747938449505\n"
     ]
    }
   ],
   "source": [
    "result=load_model.score(x_test,y_test)\n",
    "print(result)"
   ]
  },
  {
   "cell_type": "code",
   "execution_count": 89,
   "metadata": {},
   "outputs": [],
   "source": [
    "conclusion=pd.DataFrame([load_model.predict(x_test)[:],rfr_pred[:]],index=['Predicted','Original'])"
   ]
  },
  {
   "cell_type": "code",
   "execution_count": 90,
   "metadata": {},
   "outputs": [
    {
     "data": {
      "text/html": [
       "<div>\n",
       "<style scoped>\n",
       "    .dataframe tbody tr th:only-of-type {\n",
       "        vertical-align: middle;\n",
       "    }\n",
       "\n",
       "    .dataframe tbody tr th {\n",
       "        vertical-align: top;\n",
       "    }\n",
       "\n",
       "    .dataframe thead th {\n",
       "        text-align: right;\n",
       "    }\n",
       "</style>\n",
       "<table border=\"1\" class=\"dataframe\">\n",
       "  <thead>\n",
       "    <tr style=\"text-align: right;\">\n",
       "      <th></th>\n",
       "      <th>0</th>\n",
       "      <th>1</th>\n",
       "      <th>2</th>\n",
       "      <th>3</th>\n",
       "      <th>4</th>\n",
       "      <th>5</th>\n",
       "      <th>6</th>\n",
       "      <th>7</th>\n",
       "      <th>8</th>\n",
       "      <th>9</th>\n",
       "      <th>...</th>\n",
       "      <th>50</th>\n",
       "      <th>51</th>\n",
       "      <th>52</th>\n",
       "      <th>53</th>\n",
       "      <th>54</th>\n",
       "      <th>55</th>\n",
       "      <th>56</th>\n",
       "      <th>57</th>\n",
       "      <th>58</th>\n",
       "      <th>59</th>\n",
       "    </tr>\n",
       "  </thead>\n",
       "  <tbody>\n",
       "    <tr>\n",
       "      <th>Predicted</th>\n",
       "      <td>10.430667</td>\n",
       "      <td>17.807</td>\n",
       "      <td>19.81</td>\n",
       "      <td>22.165333</td>\n",
       "      <td>20.428</td>\n",
       "      <td>20.286667</td>\n",
       "      <td>16.31</td>\n",
       "      <td>9.972</td>\n",
       "      <td>10.531333</td>\n",
       "      <td>14.554333</td>\n",
       "      <td>...</td>\n",
       "      <td>11.824667</td>\n",
       "      <td>10.986667</td>\n",
       "      <td>17.193333</td>\n",
       "      <td>11.248</td>\n",
       "      <td>18.805333</td>\n",
       "      <td>16.468</td>\n",
       "      <td>15.879333</td>\n",
       "      <td>15.489333</td>\n",
       "      <td>18.396</td>\n",
       "      <td>12.153333</td>\n",
       "    </tr>\n",
       "    <tr>\n",
       "      <th>Original</th>\n",
       "      <td>10.430667</td>\n",
       "      <td>17.807</td>\n",
       "      <td>19.81</td>\n",
       "      <td>22.165333</td>\n",
       "      <td>20.428</td>\n",
       "      <td>20.286667</td>\n",
       "      <td>16.31</td>\n",
       "      <td>9.972</td>\n",
       "      <td>10.531333</td>\n",
       "      <td>14.554333</td>\n",
       "      <td>...</td>\n",
       "      <td>11.824667</td>\n",
       "      <td>10.986667</td>\n",
       "      <td>17.193333</td>\n",
       "      <td>11.248</td>\n",
       "      <td>18.805333</td>\n",
       "      <td>16.468</td>\n",
       "      <td>15.879333</td>\n",
       "      <td>15.489333</td>\n",
       "      <td>18.396</td>\n",
       "      <td>12.153333</td>\n",
       "    </tr>\n",
       "  </tbody>\n",
       "</table>\n",
       "<p>2 rows × 60 columns</p>\n",
       "</div>"
      ],
      "text/plain": [
       "                  0       1      2          3       4          5      6   \\\n",
       "Predicted  10.430667  17.807  19.81  22.165333  20.428  20.286667  16.31   \n",
       "Original   10.430667  17.807  19.81  22.165333  20.428  20.286667  16.31   \n",
       "\n",
       "              7          8          9   ...         50         51         52  \\\n",
       "Predicted  9.972  10.531333  14.554333  ...  11.824667  10.986667  17.193333   \n",
       "Original   9.972  10.531333  14.554333  ...  11.824667  10.986667  17.193333   \n",
       "\n",
       "               53         54      55         56         57      58         59  \n",
       "Predicted  11.248  18.805333  16.468  15.879333  15.489333  18.396  12.153333  \n",
       "Original   11.248  18.805333  16.468  15.879333  15.489333  18.396  12.153333  \n",
       "\n",
       "[2 rows x 60 columns]"
      ]
     },
     "execution_count": 90,
     "metadata": {},
     "output_type": "execute_result"
    }
   ],
   "source": [
    "conclusion"
   ]
  },
  {
   "cell_type": "code",
   "execution_count": null,
   "metadata": {},
   "outputs": [],
   "source": []
  }
 ],
 "metadata": {
  "kernelspec": {
   "display_name": "Python 3",
   "language": "python",
   "name": "python3"
  },
  "language_info": {
   "codemirror_mode": {
    "name": "ipython",
    "version": 3
   },
   "file_extension": ".py",
   "mimetype": "text/x-python",
   "name": "python",
   "nbconvert_exporter": "python",
   "pygments_lexer": "ipython3",
   "version": "3.8.5"
  }
 },
 "nbformat": 4,
 "nbformat_minor": 4
}
